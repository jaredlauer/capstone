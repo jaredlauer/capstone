{
 "cells": [
  {
   "cell_type": "code",
   "execution_count": 1,
   "id": "d2d1b1ff-a195-433b-b7e4-ddfcf4b8f93f",
   "metadata": {},
   "outputs": [],
   "source": [
    "import pcamlib as pc\n",
    "\n",
    "import pandas as pd\n",
    "import tensorflow as tf"
   ]
  },
  {
   "cell_type": "code",
   "execution_count": 2,
   "id": "fe0781c5-0343-48d2-ae1c-1ab617074c18",
   "metadata": {},
   "outputs": [
    {
     "name": "stdout",
     "output_type": "stream",
     "text": [
      "tfds.core.DatasetInfo(\n",
      "    name='patch_camelyon',\n",
      "    full_name='patch_camelyon/2.0.0',\n",
      "    description=\"\"\"\n",
      "    The PatchCamelyon benchmark is a new and challenging image classification\n",
      "    dataset. It consists of 327.680 color images (96 x 96px) extracted from\n",
      "    histopathologic scans of lymph node sections. Each image is annoted with a\n",
      "    binary label indicating presence of metastatic tissue. PCam provides a new\n",
      "    benchmark for machine learning models: bigger than CIFAR10, smaller than\n",
      "    Imagenet, trainable on a single GPU.\n",
      "    \"\"\",\n",
      "    homepage='https://patchcamelyon.grand-challenge.org/',\n",
      "    data_path='/Users/jaredlauer/tensorflow_datasets/patch_camelyon/2.0.0',\n",
      "    download_size=7.48 GiB,\n",
      "    dataset_size=7.06 GiB,\n",
      "    features=FeaturesDict({\n",
      "        'id': Text(shape=(), dtype=tf.string),\n",
      "        'image': Image(shape=(96, 96, 3), dtype=tf.uint8),\n",
      "        'label': ClassLabel(shape=(), dtype=tf.int64, num_classes=2),\n",
      "    }),\n",
      "    supervised_keys=('image', 'label'),\n",
      "    disable_shuffling=False,\n",
      "    splits={\n",
      "        'test': <SplitInfo num_examples=32768, num_shards=8>,\n",
      "        'train': <SplitInfo num_examples=262144, num_shards=64>,\n",
      "        'validation': <SplitInfo num_examples=32768, num_shards=8>,\n",
      "    },\n",
      "    citation=\"\"\"@misc{b_s_veeling_j_linmans_j_winkens_t_cohen_2018_2546921,\n",
      "      author       = {B. S. Veeling, J. Linmans, J. Winkens, T. Cohen, M. Welling},\n",
      "      title        = {Rotation Equivariant CNNs for Digital Pathology},\n",
      "      month        = sep,\n",
      "      year         = 2018,\n",
      "      doi          = {10.1007/978-3-030-00934-2_24},\n",
      "      url          = {https://doi.org/10.1007/978-3-030-00934-2_24}\n",
      "    }\"\"\",\n",
      ")\n"
     ]
    }
   ],
   "source": [
    "pcam, pcam_info = pc.load_pcam()"
   ]
  },
  {
   "cell_type": "code",
   "execution_count": 3,
   "id": "c6a8752a-e71d-4192-abbb-662e122ebd18",
   "metadata": {},
   "outputs": [],
   "source": [
    "train_pipeline, valid_pipeline, test_pipeline = pc.build_pipelines(pcam)"
   ]
  },
  {
   "cell_type": "code",
   "execution_count": 4,
   "id": "6463dc31-b6d9-4cc5-bdca-52baf5b6295d",
   "metadata": {
    "scrolled": true,
    "tags": []
   },
   "outputs": [
    {
     "name": "stdout",
     "output_type": "stream",
     "text": [
      "Model: \"sequential_5\"\n",
      "_________________________________________________________________\n",
      "Layer (type)                 Output Shape              Param #   \n",
      "=================================================================\n",
      "conv2d_30 (Conv2D)           (None, 94, 94, 16)        448       \n",
      "_________________________________________________________________\n",
      "dropout_16 (Dropout)         (None, 94, 94, 16)        0         \n",
      "_________________________________________________________________\n",
      "conv2d_31 (Conv2D)           (None, 92, 92, 16)        2320      \n",
      "_________________________________________________________________\n",
      "dropout_17 (Dropout)         (None, 92, 92, 16)        0         \n",
      "_________________________________________________________________\n",
      "max_pooling2d_15 (MaxPooling (None, 46, 46, 16)        0         \n",
      "_________________________________________________________________\n",
      "conv2d_32 (Conv2D)           (None, 44, 44, 32)        4640      \n",
      "_________________________________________________________________\n",
      "dropout_18 (Dropout)         (None, 44, 44, 32)        0         \n",
      "_________________________________________________________________\n",
      "conv2d_33 (Conv2D)           (None, 42, 42, 32)        9248      \n",
      "_________________________________________________________________\n",
      "dropout_19 (Dropout)         (None, 42, 42, 32)        0         \n",
      "_________________________________________________________________\n",
      "max_pooling2d_16 (MaxPooling (None, 21, 21, 32)        0         \n",
      "_________________________________________________________________\n",
      "conv2d_34 (Conv2D)           (None, 19, 19, 64)        18496     \n",
      "_________________________________________________________________\n",
      "dropout_20 (Dropout)         (None, 19, 19, 64)        0         \n",
      "_________________________________________________________________\n",
      "conv2d_35 (Conv2D)           (None, 17, 17, 64)        36928     \n",
      "_________________________________________________________________\n",
      "dropout_21 (Dropout)         (None, 17, 17, 64)        0         \n",
      "_________________________________________________________________\n",
      "max_pooling2d_17 (MaxPooling (None, 8, 8, 64)          0         \n",
      "_________________________________________________________________\n",
      "flatten_5 (Flatten)          (None, 4096)              0         \n",
      "_________________________________________________________________\n",
      "dense_14 (Dense)             (None, 256)               1048832   \n",
      "_________________________________________________________________\n",
      "dropout_22 (Dropout)         (None, 256)               0         \n",
      "_________________________________________________________________\n",
      "dense_15 (Dense)             (None, 128)               32896     \n",
      "_________________________________________________________________\n",
      "dropout_23 (Dropout)         (None, 128)               0         \n",
      "_________________________________________________________________\n",
      "dense_16 (Dense)             (None, 2)                 258       \n",
      "=================================================================\n",
      "Total params: 1,154,066\n",
      "Trainable params: 1,154,066\n",
      "Non-trainable params: 0\n",
      "_________________________________________________________________\n"
     ]
    }
   ],
   "source": [
    "cnn = tf.keras.models.load_model(\"cnn1\")\n",
    "cnn.summary()"
   ]
  },
  {
   "cell_type": "code",
   "execution_count": 5,
   "id": "8ed0e9b0-c716-4293-98c3-673267b80efa",
   "metadata": {},
   "outputs": [
    {
     "data": {
      "text/html": [
       "<div>\n",
       "<style scoped>\n",
       "    .dataframe tbody tr th:only-of-type {\n",
       "        vertical-align: middle;\n",
       "    }\n",
       "\n",
       "    .dataframe tbody tr th {\n",
       "        vertical-align: top;\n",
       "    }\n",
       "\n",
       "    .dataframe thead th {\n",
       "        text-align: right;\n",
       "    }\n",
       "</style>\n",
       "<table border=\"1\" class=\"dataframe\">\n",
       "  <thead>\n",
       "    <tr style=\"text-align: right;\">\n",
       "      <th></th>\n",
       "      <th>loss</th>\n",
       "      <th>accuracy</th>\n",
       "      <th>val_loss</th>\n",
       "      <th>val_accuracy</th>\n",
       "    </tr>\n",
       "  </thead>\n",
       "  <tbody>\n",
       "    <tr>\n",
       "      <th>0</th>\n",
       "      <td>0.364252</td>\n",
       "      <td>0.841896</td>\n",
       "      <td>0.407204</td>\n",
       "      <td>0.819641</td>\n",
       "    </tr>\n",
       "    <tr>\n",
       "      <th>1</th>\n",
       "      <td>0.312996</td>\n",
       "      <td>0.868130</td>\n",
       "      <td>0.344373</td>\n",
       "      <td>0.846527</td>\n",
       "    </tr>\n",
       "    <tr>\n",
       "      <th>2</th>\n",
       "      <td>0.287698</td>\n",
       "      <td>0.881626</td>\n",
       "      <td>0.409219</td>\n",
       "      <td>0.813843</td>\n",
       "    </tr>\n",
       "    <tr>\n",
       "      <th>3</th>\n",
       "      <td>0.270997</td>\n",
       "      <td>0.888927</td>\n",
       "      <td>0.349196</td>\n",
       "      <td>0.840790</td>\n",
       "    </tr>\n",
       "    <tr>\n",
       "      <th>4</th>\n",
       "      <td>0.255480</td>\n",
       "      <td>0.896851</td>\n",
       "      <td>0.304264</td>\n",
       "      <td>0.863831</td>\n",
       "    </tr>\n",
       "    <tr>\n",
       "      <th>5</th>\n",
       "      <td>0.245907</td>\n",
       "      <td>0.901691</td>\n",
       "      <td>0.317085</td>\n",
       "      <td>0.858337</td>\n",
       "    </tr>\n",
       "    <tr>\n",
       "      <th>6</th>\n",
       "      <td>0.238003</td>\n",
       "      <td>0.905781</td>\n",
       "      <td>0.301543</td>\n",
       "      <td>0.868042</td>\n",
       "    </tr>\n",
       "    <tr>\n",
       "      <th>7</th>\n",
       "      <td>0.231203</td>\n",
       "      <td>0.908474</td>\n",
       "      <td>0.295298</td>\n",
       "      <td>0.869415</td>\n",
       "    </tr>\n",
       "  </tbody>\n",
       "</table>\n",
       "</div>"
      ],
      "text/plain": [
       "       loss  accuracy  val_loss  val_accuracy\n",
       "0  0.364252  0.841896  0.407204      0.819641\n",
       "1  0.312996  0.868130  0.344373      0.846527\n",
       "2  0.287698  0.881626  0.409219      0.813843\n",
       "3  0.270997  0.888927  0.349196      0.840790\n",
       "4  0.255480  0.896851  0.304264      0.863831\n",
       "5  0.245907  0.901691  0.317085      0.858337\n",
       "6  0.238003  0.905781  0.301543      0.868042\n",
       "7  0.231203  0.908474  0.295298      0.869415"
      ]
     },
     "execution_count": 5,
     "metadata": {},
     "output_type": "execute_result"
    }
   ],
   "source": [
    "hist_df = pc.load_history('cnn1_history.csv')\n",
    "hist_df"
   ]
  },
  {
   "cell_type": "code",
   "execution_count": 6,
   "id": "19d98042-4e0a-4cda-90b0-eaff0adaec7e",
   "metadata": {},
   "outputs": [
    {
     "data": {
      "image/png": "[encoded data removed]",
      "text/plain": [
       "<Figure size 720x288 with 2 Axes>"
      ]
     },
     "metadata": {
      "needs_background": "light"
     },
     "output_type": "display_data"
    }
   ],
   "source": [
    "pc.plot_history(hist_df, title='CNN1')"
   ]
  },
  {
   "cell_type": "code",
   "execution_count": 8,
   "id": "9a6d11b5-b6a8-4ce9-9e49-8ad3a49e58c0",
   "metadata": {},
   "outputs": [
    {
     "name": "stdout",
     "output_type": "stream",
     "text": [
      "Test set accuracy is 0.8441\n"
     ]
    }
   ],
   "source": [
    "%%time\n",
    "pc.print_test_accuracy(cnn, test_pipeline)"
   ]
  },
  {
   "cell_type": "code",
   "execution_count": 5,
   "id": "7bfad262-188e-456d-b563-0d1ed092d3f3",
   "metadata": {},
   "outputs": [
    {
     "name": "stdout",
     "output_type": "stream",
     "text": [
      "CPU times: user 3min 43s, sys: 20.1 s, total: 4min 3s\n",
      "Wall time: 45.3 s\n"
     ]
    }
   ],
   "source": [
    "%%time\n",
    "y_proba = pc.generate_y_proba(cnn, test_pipeline, class_1=False, save=True, filepath='y_proba/cnn1_y_proba.csv')"
   ]
  },
  {
   "cell_type": "code",
   "execution_count": 2,
   "id": "0d9628e0-ccf5-4900-838d-94e54a1000b4",
   "metadata": {},
   "outputs": [
    {
     "data": {
      "text/plain": [
       "array([[0.8328406 , 0.16715938],\n",
       "       [0.11837599, 0.881624  ],\n",
       "       [0.7755397 , 0.2244603 ],\n",
       "       ...,\n",
       "       [0.00129417, 0.99870586],\n",
       "       [0.00353872, 0.99646133],\n",
       "       [0.9566493 , 0.0433507 ]])"
      ]
     },
     "execution_count": 2,
     "metadata": {},
     "output_type": "execute_result"
    }
   ],
   "source": [
    "y_proba = pc.load_y_proba('data/y_proba/cnn1_y_proba.csv')\n",
    "y_proba\n"
   ]
  },
  {
   "cell_type": "code",
   "execution_count": 11,
   "id": "eaeba196-74df-4004-961d-e325a31acf5e",
   "metadata": {},
   "outputs": [
    {
     "name": "stdout",
     "output_type": "stream",
     "text": [
      "CPU times: user 23.6 s, sys: 2.13 s, total: 25.8 s\n",
      "Wall time: 5.63 s\n"
     ]
    }
   ],
   "source": [
    "%%time\n",
    "y_true = pc.generate_y_true(pcam)"
   ]
  },
  {
   "cell_type": "code",
   "execution_count": 20,
   "id": "5487280a-6078-4567-bbef-04d15699dacb",
   "metadata": {},
   "outputs": [
    {
     "name": "stdout",
     "output_type": "stream",
     "text": [
      "CPU times: user 7.96 ms, sys: 1.42 ms, total: 9.38 ms\n",
      "Wall time: 9.38 ms\n"
     ]
    }
   ],
   "source": [
    "%%time\n",
    "y_pred = pc.generate_y_pred(y_proba)"
   ]
  },
  {
   "cell_type": "code",
   "execution_count": 23,
   "id": "5264a058-a4ac-45bf-a30c-66975a590e23",
   "metadata": {},
   "outputs": [
    {
     "data": {
      "image/png": "[encoded data removed]",
      "text/plain": [
       "<Figure size 432x288 with 2 Axes>"
      ]
     },
     "metadata": {
      "needs_background": "light"
     },
     "output_type": "display_data"
    }
   ],
   "source": [
    "pc.plot_cf_matrix(y_true, y_pred, normalize=True)"
   ]
  },
  {
   "cell_type": "code",
   "execution_count": 10,
   "id": "d372d08c-2890-484e-af80-1067167f124a",
   "metadata": {},
   "outputs": [
    {
     "ename": "NameError",
     "evalue": "name 'y_true' is not defined",
     "output_type": "error",
     "traceback": [
      "\u001b[0;31m---------------------------------------------------------------------------\u001b[0m",
      "\u001b[0;31mNameError\u001b[0m                                 Traceback (most recent call last)",
      "\u001b[0;32m<ipython-input-10-0e6dcc153745>\u001b[0m in \u001b[0;36m<module>\u001b[0;34m\u001b[0m\n\u001b[0;32m----> 1\u001b[0;31m \u001b[0mpc\u001b[0m\u001b[0;34m.\u001b[0m\u001b[0mplot_roc_curve\u001b[0m\u001b[0;34m(\u001b[0m\u001b[0my_true\u001b[0m\u001b[0;34m,\u001b[0m \u001b[0my_proba\u001b[0m\u001b[0;34m)\u001b[0m\u001b[0;34m\u001b[0m\u001b[0;34m\u001b[0m\u001b[0m\n\u001b[0m",
      "\u001b[0;31mNameError\u001b[0m: name 'y_true' is not defined"
     ]
    }
   ],
   "source": [
    "pc.plot_roc_curve(y_true, y_proba)"
   ]
  },
  {
   "cell_type": "code",
   "execution_count": null,
   "id": "f765cac4-18fa-454b-a552-d23bf4265d37",
   "metadata": {},
   "outputs": [],
   "source": []
  }
 ],
 "metadata": {
  "kernelspec": {
   "display_name": "capstone",
   "language": "python",
   "name": "capstone"
  },
  "language_info": {
   "codemirror_mode": {
    "name": "ipython",
    "version": 3
   },
   "file_extension": ".py",
   "mimetype": "text/x-python",
   "name": "python",
   "nbconvert_exporter": "python",
   "pygments_lexer": "ipython3",
   "version": "3.8.10"
  }
 },
 "nbformat": 4,
 "nbformat_minor": 5
}
