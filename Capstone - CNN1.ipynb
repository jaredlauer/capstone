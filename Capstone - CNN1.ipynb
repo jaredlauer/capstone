{
 "cells": [
  {
   "cell_type": "markdown",
   "id": "73392095-da20-4afb-8794-e1c9d4e9ad89",
   "metadata": {},
   "source": [
    "## Importing Libraries"
   ]
  },
  {
   "cell_type": "code",
   "execution_count": null,
   "id": "65675d3f-7c83-4aa6-9747-6da7548829ed",
   "metadata": {
    "executionInfo": {
     "elapsed": 2266,
     "status": "ok",
     "timestamp": 1623630322202,
     "user": {
      "displayName": "Jared Lauer",
      "photoUrl": "",
      "userId": "03215422774970229239"
     },
     "user_tz": 240
    },
    "id": "80f8b9e3-5338-4a2e-abb9-b109e7fc363f"
   },
   "outputs": [],
   "source": [
    "# Import basic data science packages\n",
    "import numpy as np\n",
    "\n",
    "# Import tensorflow packages\n",
    "import tensorflow as tf\n",
    "from tensorflow.test import gpu_device_name\n",
    "\n",
    "# Import various keras tools\n",
    "from tensorflow.keras.layers import Input, Dense, Conv2D, MaxPool2D, Flatten, Dropout\n",
    "from tensorflow.keras.models import Sequential\n",
    "from tensorflow.keras.optimizers import SGD, Adam\n",
    "from tensorflow.keras.utils import to_categorical\n",
    "from tensorflow.keras.callbacks import ModelCheckpoint, EarlyStopping"
   ]
  },
  {
   "cell_type": "markdown",
   "id": "56e192e3-0729-4fc5-94c6-563355a52d43",
   "metadata": {},
   "source": [
    "#### Run this cell when working locally. When using Colab, the import of this library is handled in the next section."
   ]
  },
  {
   "cell_type": "code",
   "execution_count": null,
   "id": "71b4089f-3047-43e5-b9b8-875e5538fd78",
   "metadata": {
    "executionInfo": {
     "elapsed": 2266,
     "status": "ok",
     "timestamp": 1623630322202,
     "user": {
      "displayName": "Jared Lauer",
      "photoUrl": "",
      "userId": "03215422774970229239"
     },
     "user_tz": 240
    },
    "id": "80f8b9e3-5338-4a2e-abb9-b109e7fc363f"
   },
   "outputs": [],
   "source": [
    "# pcamlib.py is my library of helper functions\n",
    "import pcamlib"
   ]
  },
  {
   "cell_type": "markdown",
   "id": "f18172ea-0354-45ab-9501-9ad973ff19e0",
   "metadata": {},
   "source": [
    "---"
   ]
  },
  {
   "cell_type": "markdown",
   "id": "080b6240-bdde-4c85-8ffe-f1257dcb0b29",
   "metadata": {},
   "source": [
    "## Google Colab Setup. When running locally, skip these cells"
   ]
  },
  {
   "cell_type": "markdown",
   "id": "167a82a6-ef0f-4412-b1c6-217852075246",
   "metadata": {},
   "source": [
    "These cells adapted from code located [here](https://towardsdatascience.com/google-drive-google-colab-github-dont-just-read-do-it-5554d5824228)"
   ]
  },
  {
   "cell_type": "code",
   "execution_count": null,
   "id": "a37ec2ef-dbf3-4e9e-a34b-5734a1c22ece",
   "metadata": {
    "colab": {
     "base_uri": "https://localhost:8080/"
    },
    "executionInfo": {
     "elapsed": 238,
     "status": "ok",
     "timestamp": 1623630325346,
     "user": {
      "displayName": "Jared Lauer",
      "photoUrl": "",
      "userId": "03215422774970229239"
     },
     "user_tz": 240
    },
    "id": "a37ec2ef-dbf3-4e9e-a34b-5734a1c22ece",
    "outputId": "f9da42b7-fb3f-4166-9f47-ab55381aa574"
   },
   "outputs": [],
   "source": [
    "device_name = gpu_device_name()\n",
    "if device_name != '/device:GPU:0':\n",
    "  raise SystemError('GPU device not found')\n",
    "print('Found GPU at: {}'.format(device_name))"
   ]
  },
  {
   "cell_type": "code",
   "execution_count": null,
   "id": "f983d688-8462-40a2-aca9-46e106da9da2",
   "metadata": {
    "colab": {
     "base_uri": "https://localhost:8080/"
    },
    "executionInfo": {
     "elapsed": 25439,
     "status": "ok",
     "timestamp": 1623630350777,
     "user": {
      "displayName": "Jared Lauer",
      "photoUrl": "",
      "userId": "03215422774970229239"
     },
     "user_tz": 240
    },
    "id": "f983d688-8462-40a2-aca9-46e106da9da2",
    "outputId": "e8c03c96-9c51-4ed7-e7c3-52f1bd6f6e9b"
   },
   "outputs": [],
   "source": [
    "# Mount Google Drive\n",
    "from google.colab import drive # import drive from google colab\n",
    "\n",
    "ROOT = \"/content/drive\"     # default location for the drive\n",
    "print(ROOT)                 # print content of ROOT (Optional)\n",
    "\n",
    "drive.mount(ROOT)           # we mount the google drive at /content/drive"
   ]
  },
  {
   "cell_type": "code",
   "execution_count": null,
   "id": "AFwf81ci0IVw",
   "metadata": {
    "colab": {
     "base_uri": "https://localhost:8080/"
    },
    "executionInfo": {
     "elapsed": 688,
     "status": "ok",
     "timestamp": 1623630351461,
     "user": {
      "displayName": "Jared Lauer",
      "photoUrl": "",
      "userId": "03215422774970229239"
     },
     "user_tz": 240
    },
    "id": "AFwf81ci0IVw",
    "outputId": "63a915a0-d4e5-4aa2-d470-46cd8ea411a8"
   },
   "outputs": [],
   "source": [
    "# Change to capstone folder and print directory to confirm\n",
    "%cd /content/drive/MyDrive/BrainStation\\ Capstone\\ Project/capstone\n",
    "%pwd"
   ]
  },
  {
   "cell_type": "code",
   "execution_count": null,
   "id": "03a90472-f2b1-4553-b98a-cee996578ef9",
   "metadata": {
    "executionInfo": {
     "elapsed": 2021,
     "status": "ok",
     "timestamp": 1623630353477,
     "user": {
      "displayName": "Jared Lauer",
      "photoUrl": "",
      "userId": "03215422774970229239"
     },
     "user_tz": 240
    },
    "id": "03a90472-f2b1-4553-b98a-cee996578ef9"
   },
   "outputs": [],
   "source": [
    "#import pcamlib to Google Colab\n",
    "import imp \n",
    "pcamlib = imp.new_module('pcamlib')\n",
    "exec(open(\"./pcamlib.py\").read(), pcamlib.__dict__)"
   ]
  },
  {
   "cell_type": "code",
   "execution_count": null,
   "id": "TrH8H4Qn1Rb0",
   "metadata": {
    "colab": {
     "base_uri": "https://localhost:8080/",
     "height": 494
    },
    "executionInfo": {
     "elapsed": 207,
     "status": "error",
     "timestamp": 1623595887597,
     "user": {
      "displayName": "Jared Lauer",
      "photoUrl": "",
      "userId": "03215422774970229239"
     },
     "user_tz": 240
    },
    "id": "TrH8H4Qn1Rb0",
    "outputId": "3c33ef5b-8d8a-45af-ed25-df38d77efd74"
   },
   "outputs": [],
   "source": [
    "# Attempting to load pcam directly from a folder in Google Drive..\n",
    "# Works locally, doesn't currently work on Colab. May be a version issue\n",
    "directory = '/content/drive/My Drive/BrainStation Capstone Project/tensorflow_datasets'\n",
    "pcam, pcam_info = tfds.load(\"patch_camelyon\", data_dir=directory, with_info=True, download=False)"
   ]
  },
  {
   "cell_type": "markdown",
   "id": "d334e3af-357c-4977-8520-cf02f3338919",
   "metadata": {},
   "source": [
    "---"
   ]
  },
  {
   "cell_type": "markdown",
   "id": "bff055db-e179-4840-830a-8bee42609623",
   "metadata": {},
   "source": [
    "## Data Set-up"
   ]
  },
  {
   "cell_type": "markdown",
   "id": "0f683dd9-d704-4910-924a-e35caf9192ff",
   "metadata": {
    "id": "0f683dd9-d704-4910-924a-e35caf9192ff"
   },
   "source": [
    "To get started with this dataset, I adapted the code from this [article](https://geertlitjens.nl/post/getting-started-with-camelyon/) written by Geert Litjens, one of the authors of the dataset.\n",
    "\n",
    "I used his code for the `train_pipeline`, `valid_pipeline`, and `test_pipeline`, which load the train, validation, and test sets and prepare them for modelling. I also make use of his function `convert_sample`. This function extracts each image and its corresponding label from the dataset, converts each image to a TensorFlow `tf.float32` datatype, then performs one-hot encoding on the labels and converts them to `tf.float32` as well."
   ]
  },
  {
   "cell_type": "code",
   "execution_count": null,
   "id": "2ec86ef6-aa27-4ae1-aa4a-13798efe6f73",
   "metadata": {
    "colab": {
     "base_uri": "https://localhost:8080/",
     "height": 977,
     "referenced_widgets": [
      "1e08de1e6b784ab48a19fde9842e458c",
      "7d167fa42cbe49d9a90dabfd2c77f83b",
      "b18b7c0db9ff437da7bb629e5245f165",
      "4fa3db9c495a44218a52c23f26f103d9",
      "9ec4abf40061445ab3fae0e1e8c0a2f2",
      "41f71e513162468cb5907a63a81d7eb2",
      "0aa5f09dba564a5a8d3b2a5a79d1129e",
      "94e9750bd6fe4dbc817c6746df96bb1d",
      "6a6a6d92e6f04ef28c1d30b72c7d7614",
      "dccaba6ec6b04544bd784064bb30bef6",
      "1a22d420ac7b4029ba8f1681edd3cbbe",
      "a069430718f6456482128fb90c6cbae1",
      "b538454aff9e4be7ab1fa26d55417946",
      "107dc5e7fc3f4d6ba4b247deb87c4407",
      "4475ba07b01b45ab886f7b6783012ccc",
      "160097751c3944c897420fe5f3883cdb",
      "5514ca7866b84efda07d6994aca05d75",
      "6ff068a2259c446ca319cd01260d89d7",
      "dac9d918b22844f69275835f068dbcf6",
      "ff71b3c1c282487895747c4dcccd8bb7",
      "9e33cb527b404083bbfa6478d1f86e4e",
      "af9cbcf9fc504ed6956628b470ad42c7",
      "77660b98a04c4a7e82f0d7fb23ff0180",
      "09e76923ceb8491cb3abeeed6fa28f14",
      "f730d4b9839e406ea96680c160a5e35a",
      "05f4e9769bdc4356b05ede123c20e1c9",
      "9073ba4f8c8e4e0190cd6821005bba92",
      "4c68265a9b03476b8ed18bc347988e68",
      "71ce553076e14c30a4c4d8ced21e06d8",
      "0a808ee3799d49c29cabf0d16ca30dab",
      "d4ad0701711c4239a6d80548d087aee2",
      "dadde9888d52483485a73eb8ed55c846",
      "2523a86e6e234f88a7c32fcaf6e3d960",
      "37e0340cc66d43239cf3b2b65e8707bb",
      "814cccf0c9234899ba4e5664f1a6d008",
      "a0c3cb6953a14446ae8f4c65c33459b9",
      "d5a8390039354436ba20d4dc091a9c1f",
      "a3c9e14625aa49caa5db2fcc89eced9a",
      "f8bc8951b6294418ae728ac6ea554bba",
      "b4eeb5db8dba48b79a01540d83cb20d1",
      "733777ac02584c86a093217b9dc0848e",
      "d5fee8032f56482a9950c5cacb6fcc4d",
      "f90edde34560463e8061bd4aaf0d7c88",
      "21ab9b8d89cb4d14a4d0a77f6ce5d282",
      "fc1ecfc310d648ddb5342bd7be9f2efd",
      "149e193c39ce417fb2fea714a799f758",
      "a32da3d1716444bc96714c017657c6e8",
      "eaacf40ee8bb4b77aefbb3889a784e49",
      "09e76e790baf4eb7a24155507ad512e3",
      "f8ad1039c76d412788dc4806032d61a3",
      "235076c3a3414a38af631ba287ccec25",
      "1d141d510f1b460a8a2a0e939be6cadc",
      "b47da464780a40259596dd1aaaa16fbf",
      "47ff2b40ce9f40789213ce7f490f0221",
      "07a86f4411864b8a83bde8f9e7ede50f",
      "907fb203d0ba4d3781e815b12103c2d0",
      "250b7eb5efaf4fc4888748b986de5a69",
      "90d23fc5353947bfb943528228810806",
      "5c2295eae4ac4ed287832dff8e6679fd",
      "e537f7dab82448e78b0e342f9517d3c5",
      "ba51fe7d309445f3a5300230800304f2",
      "61984bd07f724deeb2bc80e6b656b76f",
      "3dd3f634e89649e59fd2820db567eb9a",
      "500d223f3a2843cb9a0a8ff355d459e6",
      "46b166393eea4852b7f60a2f272b4d62",
      "a909d078ce7c42599e25bbffcd7fc911",
      "6862670e63ed4fcc84c425e9ec75c5e5",
      "a5b5234596d34b23857cea332cdb1532",
      "4c6233b057034afdada26b6c1b6ab1ed",
      "58e0b9bb6f934569a06f4ea93fc314e9",
      "8cbb80291bd64652a1b0d7f082c5f856",
      "3776358d870e47a1ac3e7c959ddf991d"
     ]
    },
    "executionInfo": {
     "elapsed": 1016078,
     "status": "ok",
     "timestamp": 1623631440175,
     "user": {
      "displayName": "Jared Lauer",
      "photoUrl": "",
      "userId": "03215422774970229239"
     },
     "user_tz": 240
    },
    "id": "2ec86ef6-aa27-4ae1-aa4a-13798efe6f73",
    "outputId": "5c38df81-459d-4f41-8a73-7cd5c717e458"
   },
   "outputs": [],
   "source": [
    "# Load dataset and dataset info \n",
    "pcam, pcam_info = pcamlib.load_pcam()"
   ]
  },
  {
   "cell_type": "code",
   "execution_count": null,
   "id": "446cd323-a570-421c-97aa-d4ba4ded0783",
   "metadata": {
    "executionInfo": {
     "elapsed": 16,
     "status": "ok",
     "timestamp": 1623631440177,
     "user": {
      "displayName": "Jared Lauer",
      "photoUrl": "",
      "userId": "03215422774970229239"
     },
     "user_tz": 240
    },
    "id": "446cd323-a570-421c-97aa-d4ba4ded0783"
   },
   "outputs": [],
   "source": [
    "# Create generator \"pipelines\" for train, validation and test sets.\n",
    "# Default batch sizes of 64 for the train set and 128 for validation and test sets to speed up calculations\n",
    "train_pipeline, valid_pipeline, test_pipeline = pcamlib.build_pipelines(pcam)"
   ]
  },
  {
   "cell_type": "markdown",
   "id": "ee3fb804-ad22-483f-9153-6aabe4e14d6c",
   "metadata": {},
   "source": [
    "---"
   ]
  },
  {
   "cell_type": "markdown",
   "id": "0f0639af-30d6-4f2c-b5eb-ab5aa0f9f8c4",
   "metadata": {},
   "source": [
    "## Modelling\n",
    "\n",
    "### If you are not training this model and are loading it from a file, skip ahead to Loading the Model"
   ]
  },
  {
   "cell_type": "markdown",
   "id": "e98bd792-c1cb-447e-94dd-709f61e43005",
   "metadata": {
    "id": "e98bd792-c1cb-447e-94dd-709f61e43005"
   },
   "source": [
    "I also used Geert Litjens CNN layer architecture as a starting point. It resembles a VGG16 architecture because it has three sets of two Convolutional layers followed by a single Max Pooling layer, followed by a Flattening layer and two Dense layers before the final Dense layer which outputs the class predictions. I kept the layer parameters the same as his example.\n",
    "\n",
    "I changed the optimizer to `Adam` from `SGD` simply because he provided multiple hyperparameters to go along with it, and I wanted to experiment with that on my own. I also added additional Dropout layers after each convolutional layer, because the first iteration of the model started overfitting quickly after the first epoch and the validation accuracy didn't improve beyond 80%."
   ]
  },
  {
   "cell_type": "code",
   "execution_count": null,
   "id": "571a0798-c5c7-4791-9281-7a0ecb129eeb",
   "metadata": {
    "colab": {
     "base_uri": "https://localhost:8080/"
    },
    "executionInfo": {
     "elapsed": 622,
     "status": "ok",
     "timestamp": 1623631440789,
     "user": {
      "displayName": "Jared Lauer",
      "photoUrl": "",
      "userId": "03215422774970229239"
     },
     "user_tz": 240
    },
    "id": "571a0798-c5c7-4791-9281-7a0ecb129eeb",
    "outputId": "2c2053e2-e34a-4e99-cf96-19e5fc977f79"
   },
   "outputs": [],
   "source": [
    "# Instantiate model object\n",
    "cnn = Sequential()\n",
    "\n",
    "# Images are 96x96 px, in RGB so there are 3 channels\n",
    "image_shape = (96, 96, 3)\n",
    "\n",
    "# Adding convultional layers to the model \n",
    "# It was important to add dropout layers after each convolutional layer to reduce overfitting\n",
    "cnn.add(Conv2D(16, kernel_size=(3, 3), activation='relu', padding='valid', input_shape=image_shape))\n",
    "cnn.add(Dropout(0.25))\n",
    "cnn.add(Conv2D(16, kernel_size=(3, 3), activation='relu', padding='valid'))\n",
    "cnn.add(Dropout(0.25))\n",
    "\n",
    "# Add a max pool layer to reduce the dimensions of the feature maps\n",
    "cnn.add(MaxPool2D(pool_size=(2, 2), strides=(2,2)))\n",
    "\n",
    "# Repeating this architecture two more times\n",
    "cnn.add(Conv2D(32, kernel_size=(3, 3), activation='relu', padding='valid'))\n",
    "cnn.add(Dropout(0.25))\n",
    "cnn.add(Conv2D(32, kernel_size=(3, 3), activation='relu', padding='valid'))\n",
    "cnn.add(Dropout(0.25))\n",
    "cnn.add(MaxPool2D(pool_size=(2, 2), strides=(2,2)))\n",
    "     \n",
    "cnn.add(Conv2D(64, kernel_size=(3, 3), activation='relu', padding='valid'))\n",
    "cnn.add(Dropout(0.25))\n",
    "cnn.add(Conv2D(64, kernel_size=(3, 3), activation='relu', padding='valid'))\n",
    "cnn.add(Dropout(0.25))\n",
    "cnn.add(MaxPool2D(pool_size=(2, 2), strides=(2,2)))\n",
    "\n",
    "# Flatten the data to prepare for dense layers\n",
    "cnn.add(Flatten())\n",
    "        \n",
    "cnn.add(Dense(256, activation='relu'))\n",
    "cnn.add(Dropout(0.25))\n",
    "\n",
    "cnn.add(Dense(128, activation='relu'))\n",
    "cnn.add(Dropout(0.25))\n",
    "\n",
    "# This extra layer is cnn1.2\n",
    "cnn.add(Dense(64, activation='relu'))\n",
    "cnn.add(Dropout(0.25))\n",
    "\n",
    "# Final Dense layer to make class predictions\n",
    "cnn.add(Dense(2, activation='softmax'))\n",
    "        \n",
    "cnn.summary()"
   ]
  },
  {
   "cell_type": "code",
   "execution_count": null,
   "id": "f31ece6c-6985-41f9-a3af-2c61132558f9",
   "metadata": {
    "executionInfo": {
     "elapsed": 4,
     "status": "ok",
     "timestamp": 1623631440789,
     "user": {
      "displayName": "Jared Lauer",
      "photoUrl": "",
      "userId": "03215422774970229239"
     },
     "user_tz": 240
    },
    "id": "f31ece6c-6985-41f9-a3af-2c61132558f9"
   },
   "outputs": [],
   "source": [
    "# For comparison, this commented line is the original optimizer used in the article:\n",
    "# sgd_opt = SGD(lr=0.01, momentum=0.9, decay=0.0, nesterov=True)\n",
    "cnn.compile(optimizer='Adam',\n",
    "              loss='categorical_crossentropy',\n",
    "              metrics=['accuracy'])\n",
    "\n",
    "# Add early stop callback to prevent the model from overfitting, or running too long\n",
    "early_stop = EarlyStopping(monitor='val_accuracy', min_delta=0.01, patience=3, verbose=1)"
   ]
  },
  {
   "cell_type": "code",
   "execution_count": null,
   "id": "32ca35b8-559a-406e-bc84-f1d3736a9676",
   "metadata": {
    "colab": {
     "base_uri": "https://localhost:8080/"
    },
    "executionInfo": {
     "elapsed": 2383713,
     "status": "ok",
     "timestamp": 1623633824498,
     "user": {
      "displayName": "Jared Lauer",
      "photoUrl": "",
      "userId": "03215422774970229239"
     },
     "user_tz": 240
    },
    "id": "32ca35b8-559a-406e-bc84-f1d3736a9676",
    "outputId": "9b4880e3-f74c-4960-ba82-a3d41e294dfa"
   },
   "outputs": [],
   "source": [
    "%%time\n",
    "history = cnn.fit(train_pipeline,\n",
    "                   validation_data=valid_pipeline,\n",
    "                   verbose=1, epochs=30, steps_per_epoch=4096, validation_steps=256,\n",
    "                   callbacks=[early_stop])\n",
    "\n",
    "# Save the history of the model to a pandas dataframe\n",
    "hist_df = pd.DataFrame(history.history)"
   ]
  },
  {
   "cell_type": "markdown",
   "id": "a6a00304-1b3d-4802-a9d1-b1af331fc6a7",
   "metadata": {},
   "source": [
    "---"
   ]
  },
  {
   "cell_type": "markdown",
   "id": "5310f3e7-2783-4915-b311-ab8e7d8bade3",
   "metadata": {},
   "source": [
    "## Saving Model and History"
   ]
  },
  {
   "cell_type": "code",
   "execution_count": null,
   "id": "b9988839-67d6-48f3-89f0-2b78381dab44",
   "metadata": {
    "colab": {
     "base_uri": "https://localhost:8080/"
    },
    "executionInfo": {
     "elapsed": 2857,
     "status": "ok",
     "timestamp": 1623603957823,
     "user": {
      "displayName": "Jared Lauer",
      "photoUrl": "",
      "userId": "03215422774970229239"
     },
     "user_tz": 240
    },
    "id": "b9988839-67d6-48f3-89f0-2b78381dab44",
    "outputId": "51626db5-43b5-403c-88a0-0ca9ec6341b7"
   },
   "outputs": [],
   "source": [
    "# Save the fitted model to a file\n",
    "cnn.save('data/models/cnn1')"
   ]
  },
  {
   "cell_type": "code",
   "execution_count": null,
   "id": "6c5a7310-c4ea-402b-b599-0e15a002cdff",
   "metadata": {
    "executionInfo": {
     "elapsed": 199,
     "status": "ok",
     "timestamp": 1623603976783,
     "user": {
      "displayName": "Jared Lauer",
      "photoUrl": "",
      "userId": "03215422774970229239"
     },
     "user_tz": 240
    },
    "id": "6c5a7310-c4ea-402b-b599-0e15a002cdff"
   },
   "outputs": [],
   "source": [
    "# Save the history of the model to a csv\n",
    "pcamlib.save_history(hist_df, 'data/models/history/cnn1.2_history.csv')"
   ]
  },
  {
   "cell_type": "markdown",
   "id": "1874a43a-cc86-4780-86a0-78a6d9b6b07f",
   "metadata": {},
   "source": [
    "---"
   ]
  },
  {
   "cell_type": "markdown",
   "id": "9173c032-64e8-4ff4-a829-c4f909496ace",
   "metadata": {},
   "source": [
    "## Loading the Model"
   ]
  },
  {
   "cell_type": "code",
   "execution_count": null,
   "id": "99270a35-0247-439d-992a-b1d68e98ef1e",
   "metadata": {
    "executionInfo": {
     "elapsed": 198,
     "status": "ok",
     "timestamp": 1623604018324,
     "user": {
      "displayName": "Jared Lauer",
      "photoUrl": "",
      "userId": "03215422774970229239"
     },
     "user_tz": 240
    },
    "id": "94cb703a-04c5-4421-8291-e4c35405e730"
   },
   "outputs": [],
   "source": [
    "# Load the model from a file\n",
    "cnn = tf.keras.models.load_model(\"data/models/cnn1.1\")"
   ]
  },
  {
   "cell_type": "code",
   "execution_count": null,
   "id": "029b7562-a1b8-4520-b271-3afd519dcc6d",
   "metadata": {
    "executionInfo": {
     "elapsed": 198,
     "status": "ok",
     "timestamp": 1623604018324,
     "user": {
      "displayName": "Jared Lauer",
      "photoUrl": "",
      "userId": "03215422774970229239"
     },
     "user_tz": 240
    },
    "id": "94cb703a-04c5-4421-8291-e4c35405e730"
   },
   "outputs": [],
   "source": [
    "# Load the model training history from a file\n",
    "hist_df = pcamlib.load_history('data/models/history/cnn1.1_history.csv')"
   ]
  },
  {
   "cell_type": "code",
   "execution_count": null,
   "id": "1b8981c5-e52b-47b0-9bff-d772e27a8219",
   "metadata": {
    "id": "1b8981c5-e52b-47b0-9bff-d772e27a8219"
   },
   "outputs": [],
   "source": [
    "# Load y_proba from file if the model is not saved. For some larger models, I only save y_proba because the files are too large to track using git\n",
    "y_proba = pcamlib.load_y_proba('data/y_proba/cnn1.1_y_proba.csv')"
   ]
  },
  {
   "cell_type": "markdown",
   "id": "5879a3dc-9829-4d08-bd33-0d101d6080eb",
   "metadata": {},
   "source": [
    "---"
   ]
  },
  {
   "cell_type": "markdown",
   "id": "14fedf6a-704a-4730-b174-e326f1fc1e45",
   "metadata": {},
   "source": [
    "## Analysis"
   ]
  },
  {
   "cell_type": "code",
   "execution_count": null,
   "id": "ff277a38-0a62-49c7-8fad-0f0744f3b9fa",
   "metadata": {
    "colab": {
     "base_uri": "https://localhost:8080/",
     "height": 297
    },
    "executionInfo": {
     "elapsed": 756,
     "status": "ok",
     "timestamp": 1623604068425,
     "user": {
      "displayName": "Jared Lauer",
      "photoUrl": "",
      "userId": "03215422774970229239"
     },
     "user_tz": 240
    },
    "id": "ff277a38-0a62-49c7-8fad-0f0744f3b9fa",
    "outputId": "b3914092-0120-40ca-ee1c-a910654f0927"
   },
   "outputs": [],
   "source": [
    "# Plot the training and validation Accuracy and Loss\n",
    "pcamlib.plot_history(hist_df)"
   ]
  },
  {
   "cell_type": "code",
   "execution_count": null,
   "id": "c7c1751b-5b79-41eb-9a37-fe61d941cc96",
   "metadata": {
    "colab": {
     "base_uri": "https://localhost:8080/"
    },
    "executionInfo": {
     "elapsed": 23591,
     "status": "ok",
     "timestamp": 1623604101392,
     "user": {
      "displayName": "Jared Lauer",
      "photoUrl": "",
      "userId": "03215422774970229239"
     },
     "user_tz": 240
    },
    "id": "c7c1751b-5b79-41eb-9a37-fe61d941cc96",
    "outputId": "e9f9bd05-4a1b-499e-904c-445e20634d6e"
   },
   "outputs": [],
   "source": [
    "%%time\n",
    "\n",
    "# Generate y_proba\n",
    "y_proba = pcamlib.generate_y_proba(cnn, test_pipeline, class_1=False, save=True, filepath='data/y_proba/cnn1.1_y_proba.csv')"
   ]
  },
  {
   "cell_type": "code",
   "execution_count": null,
   "id": "804bf3e1-10c6-462f-998a-ca3a819f0307",
   "metadata": {
    "colab": {
     "base_uri": "https://localhost:8080/"
    },
    "executionInfo": {
     "elapsed": 7,
     "status": "ok",
     "timestamp": 1623604101393,
     "user": {
      "displayName": "Jared Lauer",
      "photoUrl": "",
      "userId": "03215422774970229239"
     },
     "user_tz": 240
    },
    "id": "804bf3e1-10c6-462f-998a-ca3a819f0307",
    "outputId": "7a66c61a-14e2-450c-c6ee-38f61a235b54"
   },
   "outputs": [],
   "source": [
    "%%time\n",
    "\n",
    "# Get predictions from y_proba. Default threshold of 0.5, meaning predicts positive class if >= 50% certainty of class 1 \n",
    "y_pred = pcamlib.generate_y_pred(y_proba)"
   ]
  },
  {
   "cell_type": "code",
   "execution_count": null,
   "id": "a1249d61-ab41-439d-80df-1645bfce6017",
   "metadata": {
    "colab": {
     "base_uri": "https://localhost:8080/"
    },
    "executionInfo": {
     "elapsed": 20586,
     "status": "ok",
     "timestamp": 1623604121974,
     "user": {
      "displayName": "Jared Lauer",
      "photoUrl": "",
      "userId": "03215422774970229239"
     },
     "user_tz": 240
    },
    "id": "a1249d61-ab41-439d-80df-1645bfce6017",
    "outputId": "ac442f18-4747-4813-ba39-6ec98692e706"
   },
   "outputs": [],
   "source": [
    "%%time\n",
    "\n",
    "# Create a list of the true labels for the test set\n",
    "y_true = pcamlib.generate_y_true(pcam)"
   ]
  },
  {
   "cell_type": "code",
   "execution_count": null,
   "id": "3477ed0e-4b27-4c01-8259-6d5035f16f5c",
   "metadata": {
    "colab": {
     "base_uri": "https://localhost:8080/",
     "height": 375
    },
    "executionInfo": {
     "elapsed": 267,
     "status": "error",
     "timestamp": 1623626796018,
     "user": {
      "displayName": "Jared Lauer",
      "photoUrl": "",
      "userId": "03215422774970229239"
     },
     "user_tz": 240
    },
    "id": "3477ed0e-4b27-4c01-8259-6d5035f16f5c",
    "outputId": "42ba6259-9f2d-453d-82c1-894cdc621a44"
   },
   "outputs": [],
   "source": [
    "%%time\n",
    "\n",
    "# Calculate accuracy of the predictions on the test set\n",
    "pcamlib.print_test_accuracy(y_true, y_pred)"
   ]
  },
  {
   "cell_type": "code",
   "execution_count": null,
   "id": "6c6b09de-ab54-4a9b-ab18-a69465dde3a0",
   "metadata": {
    "colab": {
     "base_uri": "https://localhost:8080/",
     "height": 279
    },
    "executionInfo": {
     "elapsed": 457,
     "status": "ok",
     "timestamp": 1623604122417,
     "user": {
      "displayName": "Jared Lauer",
      "photoUrl": "",
      "userId": "03215422774970229239"
     },
     "user_tz": 240
    },
    "id": "6c6b09de-ab54-4a9b-ab18-a69465dde3a0",
    "outputId": "9e65f9dd-e888-4e77-fcee-50c8d15d6ff0"
   },
   "outputs": [],
   "source": [
    "# Plot the confusion matrix\n",
    "pcamlib.plot_cf_matrix(y_true, y_pred, normalize=True)"
   ]
  },
  {
   "cell_type": "code",
   "execution_count": null,
   "id": "cea28b17-2f7b-4a15-9df8-17337bee6d47",
   "metadata": {
    "colab": {
     "base_uri": "https://localhost:8080/"
    },
    "executionInfo": {
     "elapsed": 12,
     "status": "ok",
     "timestamp": 1623604122418,
     "user": {
      "displayName": "Jared Lauer",
      "photoUrl": "",
      "userId": "03215422774970229239"
     },
     "user_tz": 240
    },
    "id": "cea28b17-2f7b-4a15-9df8-17337bee6d47",
    "outputId": "3497244d-c648-46ef-a969-03638441114e"
   },
   "outputs": [],
   "source": [
    "# Print the classification report to see precision, recall, and f1 score\n",
    "pcamlib.print_classification_report(y_true, y_pred)"
   ]
  },
  {
   "cell_type": "code",
   "execution_count": null,
   "id": "a3de8f38-468d-4752-a5f9-453e090c593c",
   "metadata": {
    "colab": {
     "base_uri": "https://localhost:8080/",
     "height": 465
    },
    "executionInfo": {
     "elapsed": 10,
     "status": "ok",
     "timestamp": 1623604122419,
     "user": {
      "displayName": "Jared Lauer",
      "photoUrl": "",
      "userId": "03215422774970229239"
     },
     "user_tz": 240
    },
    "id": "a3de8f38-468d-4752-a5f9-453e090c593c",
    "outputId": "47f98a92-3747-4d16-cc43-c3022b8fa47b"
   },
   "outputs": [],
   "source": [
    "# Plot the receiver operating characteristic curve\n",
    "pcamlib.plot_roc_curve(y_true, y_proba)"
   ]
  },
  {
   "cell_type": "code",
   "execution_count": null,
   "id": "c5729fb4-2719-4c94-8693-da3baad6c0bd",
   "metadata": {
    "colab": {
     "base_uri": "https://localhost:8080/",
     "height": 882
    },
    "executionInfo": {
     "elapsed": 4094,
     "status": "ok",
     "timestamp": 1623604126505,
     "user": {
      "displayName": "Jared Lauer",
      "photoUrl": "",
      "userId": "03215422774970229239"
     },
     "user_tz": 240
    },
    "id": "c5729fb4-2719-4c94-8693-da3baad6c0bd",
    "outputId": "c25e3d8b-8fd0-4fe5-fd10-d758531fdbe7"
   },
   "outputs": [],
   "source": [
    "# Show a sample of images that were misclassified\n",
    "pcamlib.plot_misclassified_images(pcam, y_true, y_pred)"
   ]
  },
  {
   "cell_type": "markdown",
   "id": "90825176-042c-4ac7-83a6-347187b2df77",
   "metadata": {},
   "source": [
    "## Summary"
   ]
  },
  {
   "cell_type": "markdown",
   "id": "2d2237e2-8e96-4d8f-b846-683f91f3d2ca",
   "metadata": {},
   "source": [
    "| Model   | Description                                                                                                        | Test Accuracy | Training Time | Prediction Time |\n",
    "|---------|--------------------------------------------------------------------------------------------------------------------|---------------|---------------|-----------------|\n",
    "| CNN 1.0 | Base model adapted from Geert Liljens topology.  Added 20% Dropout layers after each Convolutional and Dense layer | 84.4%         |               |                 |\n",
    "| CNN 1.1 | Increased dropout to 25%                                                                                           | 85.4%         |               |                 |"
   ]
  },
  {
   "cell_type": "code",
   "execution_count": null,
   "id": "debfa7a8-746d-4b79-bbee-6dde48cd1c1c",
   "metadata": {},
   "outputs": [],
   "source": []
  }
 ],
 "metadata": {
  "accelerator": "GPU",
  "colab": {
   "collapsed_sections": [],
   "name": "Capstone - CNN1.ipynb",
   "provenance": []
  },
  "kernelspec": {
   "display_name": "capstone",
   "language": "python",
   "name": "capstone"
  },
  "language_info": {
   "codemirror_mode": {
    "name": "ipython",
    "version": 3
   },
   "file_extension": ".py",
   "mimetype": "text/x-python",
   "name": "python",
   "nbconvert_exporter": "python",
   "pygments_lexer": "ipython3",
   "version": "3.8.10"
  },
  "widgets": {
   "application/vnd.jupyter.widget-state+json": {
    "05f4e9769bdc4356b05ede123c20e1c9": {
     "model_module": "@jupyter-widgets/base",
     "model_name": "LayoutModel",
     "state": {
      "_model_module": "@jupyter-widgets/base",
      "_model_module_version": "1.2.0",
      "_model_name": "LayoutModel",
      "_view_count": null,
      "_view_module": "@jupyter-widgets/base",
      "_view_module_version": "1.2.0",
      "_view_name": "LayoutView",
      "align_content": null,
      "align_items": null,
      "align_self": null,
      "border": null,
      "bottom": null,
      "display": null,
      "flex": null,
      "flex_flow": null,
      "grid_area": null,
      "grid_auto_columns": null,
      "grid_auto_flow": null,
      "grid_auto_rows": null,
      "grid_column": null,
      "grid_gap": null,
      "grid_row": null,
      "grid_template_areas": null,
      "grid_template_columns": null,
      "grid_template_rows": null,
      "height": null,
      "justify_content": null,
      "justify_items": null,
      "left": null,
      "margin": null,
      "max_height": null,
      "max_width": null,
      "min_height": null,
      "min_width": null,
      "object_fit": null,
      "object_position": null,
      "order": null,
      "overflow": null,
      "overflow_x": null,
      "overflow_y": null,
      "padding": null,
      "right": null,
      "top": null,
      "visibility": null,
      "width": null
     }
    },
    "07a86f4411864b8a83bde8f9e7ede50f": {
     "model_module": "@jupyter-widgets/controls",
     "model_name": "DescriptionStyleModel",
     "state": {
      "_model_module": "@jupyter-widgets/controls",
      "_model_module_version": "1.5.0",
      "_model_name": "DescriptionStyleModel",
      "_view_count": null,
      "_view_module": "@jupyter-widgets/base",
      "_view_module_version": "1.2.0",
      "_view_name": "StyleView",
      "description_width": ""
     }
    },
    "09e76923ceb8491cb3abeeed6fa28f14": {
     "model_module": "@jupyter-widgets/base",
     "model_name": "LayoutModel",
     "state": {
      "_model_module": "@jupyter-widgets/base",
      "_model_module_version": "1.2.0",
      "_model_name": "LayoutModel",
      "_view_count": null,
      "_view_module": "@jupyter-widgets/base",
      "_view_module_version": "1.2.0",
      "_view_name": "LayoutView",
      "align_content": null,
      "align_items": null,
      "align_self": null,
      "border": null,
      "bottom": null,
      "display": null,
      "flex": null,
      "flex_flow": null,
      "grid_area": null,
      "grid_auto_columns": null,
      "grid_auto_flow": null,
      "grid_auto_rows": null,
      "grid_column": null,
      "grid_gap": null,
      "grid_row": null,
      "grid_template_areas": null,
      "grid_template_columns": null,
      "grid_template_rows": null,
      "height": null,
      "justify_content": null,
      "justify_items": null,
      "left": null,
      "margin": null,
      "max_height": null,
      "max_width": null,
      "min_height": null,
      "min_width": null,
      "object_fit": null,
      "object_position": null,
      "order": null,
      "overflow": null,
      "overflow_x": null,
      "overflow_y": null,
      "padding": null,
      "right": null,
      "top": null,
      "visibility": null,
      "width": null
     }
    },
    "09e76e790baf4eb7a24155507ad512e3": {
     "model_module": "@jupyter-widgets/controls",
     "model_name": "HBoxModel",
     "state": {
      "_dom_classes": [],
      "_model_module": "@jupyter-widgets/controls",
      "_model_module_version": "1.5.0",
      "_model_name": "HBoxModel",
      "_view_count": null,
      "_view_module": "@jupyter-widgets/controls",
      "_view_module_version": "1.5.0",
      "_view_name": "HBoxView",
      "box_style": "",
      "children": [
       "IPY_MODEL_235076c3a3414a38af631ba287ccec25",
       "IPY_MODEL_1d141d510f1b460a8a2a0e939be6cadc"
      ],
      "layout": "IPY_MODEL_f8ad1039c76d412788dc4806032d61a3"
     }
    },
    "0a808ee3799d49c29cabf0d16ca30dab": {
     "model_module": "@jupyter-widgets/base",
     "model_name": "LayoutModel",
     "state": {
      "_model_module": "@jupyter-widgets/base",
      "_model_module_version": "1.2.0",
      "_model_name": "LayoutModel",
      "_view_count": null,
      "_view_module": "@jupyter-widgets/base",
      "_view_module_version": "1.2.0",
      "_view_name": "LayoutView",
      "align_content": null,
      "align_items": null,
      "align_self": null,
      "border": null,
      "bottom": null,
      "display": null,
      "flex": null,
      "flex_flow": null,
      "grid_area": null,
      "grid_auto_columns": null,
      "grid_auto_flow": null,
      "grid_auto_rows": null,
      "grid_column": null,
      "grid_gap": null,
      "grid_row": null,
      "grid_template_areas": null,
      "grid_template_columns": null,
      "grid_template_rows": null,
      "height": null,
      "justify_content": null,
      "justify_items": null,
      "left": null,
      "margin": null,
      "max_height": null,
      "max_width": null,
      "min_height": null,
      "min_width": null,
      "object_fit": null,
      "object_position": null,
      "order": null,
      "overflow": null,
      "overflow_x": null,
      "overflow_y": null,
      "padding": null,
      "right": null,
      "top": null,
      "visibility": null,
      "width": null
     }
    },
    "0aa5f09dba564a5a8d3b2a5a79d1129e": {
     "model_module": "@jupyter-widgets/controls",
     "model_name": "DescriptionStyleModel",
     "state": {
      "_model_module": "@jupyter-widgets/controls",
      "_model_module_version": "1.5.0",
      "_model_name": "DescriptionStyleModel",
      "_view_count": null,
      "_view_module": "@jupyter-widgets/base",
      "_view_module_version": "1.2.0",
      "_view_name": "StyleView",
      "description_width": ""
     }
    },
    "107dc5e7fc3f4d6ba4b247deb87c4407": {
     "model_module": "@jupyter-widgets/base",
     "model_name": "LayoutModel",
     "state": {
      "_model_module": "@jupyter-widgets/base",
      "_model_module_version": "1.2.0",
      "_model_name": "LayoutModel",
      "_view_count": null,
      "_view_module": "@jupyter-widgets/base",
      "_view_module_version": "1.2.0",
      "_view_name": "LayoutView",
      "align_content": null,
      "align_items": null,
      "align_self": null,
      "border": null,
      "bottom": null,
      "display": null,
      "flex": null,
      "flex_flow": null,
      "grid_area": null,
      "grid_auto_columns": null,
      "grid_auto_flow": null,
      "grid_auto_rows": null,
      "grid_column": null,
      "grid_gap": null,
      "grid_row": null,
      "grid_template_areas": null,
      "grid_template_columns": null,
      "grid_template_rows": null,
      "height": null,
      "justify_content": null,
      "justify_items": null,
      "left": null,
      "margin": null,
      "max_height": null,
      "max_width": null,
      "min_height": null,
      "min_width": null,
      "object_fit": null,
      "object_position": null,
      "order": null,
      "overflow": null,
      "overflow_x": null,
      "overflow_y": null,
      "padding": null,
      "right": null,
      "top": null,
      "visibility": null,
      "width": null
     }
    },
    "149e193c39ce417fb2fea714a799f758": {
     "model_module": "@jupyter-widgets/base",
     "model_name": "LayoutModel",
     "state": {
      "_model_module": "@jupyter-widgets/base",
      "_model_module_version": "1.2.0",
      "_model_name": "LayoutModel",
      "_view_count": null,
      "_view_module": "@jupyter-widgets/base",
      "_view_module_version": "1.2.0",
      "_view_name": "LayoutView",
      "align_content": null,
      "align_items": null,
      "align_self": null,
      "border": null,
      "bottom": null,
      "display": null,
      "flex": null,
      "flex_flow": null,
      "grid_area": null,
      "grid_auto_columns": null,
      "grid_auto_flow": null,
      "grid_auto_rows": null,
      "grid_column": null,
      "grid_gap": null,
      "grid_row": null,
      "grid_template_areas": null,
      "grid_template_columns": null,
      "grid_template_rows": null,
      "height": null,
      "justify_content": null,
      "justify_items": null,
      "left": null,
      "margin": null,
      "max_height": null,
      "max_width": null,
      "min_height": null,
      "min_width": null,
      "object_fit": null,
      "object_position": null,
      "order": null,
      "overflow": null,
      "overflow_x": null,
      "overflow_y": null,
      "padding": null,
      "right": null,
      "top": null,
      "visibility": null,
      "width": null
     }
    },
    "160097751c3944c897420fe5f3883cdb": {
     "model_module": "@jupyter-widgets/base",
     "model_name": "LayoutModel",
     "state": {
      "_model_module": "@jupyter-widgets/base",
      "_model_module_version": "1.2.0",
      "_model_name": "LayoutModel",
      "_view_count": null,
      "_view_module": "@jupyter-widgets/base",
      "_view_module_version": "1.2.0",
      "_view_name": "LayoutView",
      "align_content": null,
      "align_items": null,
      "align_self": null,
      "border": null,
      "bottom": null,
      "display": null,
      "flex": null,
      "flex_flow": null,
      "grid_area": null,
      "grid_auto_columns": null,
      "grid_auto_flow": null,
      "grid_auto_rows": null,
      "grid_column": null,
      "grid_gap": null,
      "grid_row": null,
      "grid_template_areas": null,
      "grid_template_columns": null,
      "grid_template_rows": null,
      "height": null,
      "justify_content": null,
      "justify_items": null,
      "left": null,
      "margin": null,
      "max_height": null,
      "max_width": null,
      "min_height": null,
      "min_width": null,
      "object_fit": null,
      "object_position": null,
      "order": null,
      "overflow": null,
      "overflow_x": null,
      "overflow_y": null,
      "padding": null,
      "right": null,
      "top": null,
      "visibility": null,
      "width": null
     }
    },
    "1a22d420ac7b4029ba8f1681edd3cbbe": {
     "model_module": "@jupyter-widgets/controls",
     "model_name": "FloatProgressModel",
     "state": {
      "_dom_classes": [],
      "_model_module": "@jupyter-widgets/controls",
      "_model_module_version": "1.5.0",
      "_model_name": "FloatProgressModel",
      "_view_count": null,
      "_view_module": "@jupyter-widgets/controls",
      "_view_module_version": "1.5.0",
      "_view_name": "ProgressView",
      "bar_style": "success",
      "description": "Dl Size...: 100%",
      "description_tooltip": null,
      "layout": "IPY_MODEL_107dc5e7fc3f4d6ba4b247deb87c4407",
      "max": 1,
      "min": 0,
      "orientation": "horizontal",
      "style": "IPY_MODEL_b538454aff9e4be7ab1fa26d55417946",
      "value": 1
     }
    },
    "1d141d510f1b460a8a2a0e939be6cadc": {
     "model_module": "@jupyter-widgets/controls",
     "model_name": "HTMLModel",
     "state": {
      "_dom_classes": [],
      "_model_module": "@jupyter-widgets/controls",
      "_model_module_version": "1.5.0",
      "_model_name": "HTMLModel",
      "_view_count": null,
      "_view_module": "@jupyter-widgets/controls",
      "_view_module_version": "1.5.0",
      "_view_name": "HTMLView",
      "description": "",
      "description_tooltip": null,
      "layout": "IPY_MODEL_907fb203d0ba4d3781e815b12103c2d0",
      "placeholder": "​",
      "style": "IPY_MODEL_07a86f4411864b8a83bde8f9e7ede50f",
      "value": " 261875/262144 [01:32&lt;00:00, 3096.57 examples/s]"
     }
    },
    "1e08de1e6b784ab48a19fde9842e458c": {
     "model_module": "@jupyter-widgets/controls",
     "model_name": "HBoxModel",
     "state": {
      "_dom_classes": [],
      "_model_module": "@jupyter-widgets/controls",
      "_model_module_version": "1.5.0",
      "_model_name": "HBoxModel",
      "_view_count": null,
      "_view_module": "@jupyter-widgets/controls",
      "_view_module_version": "1.5.0",
      "_view_name": "HBoxView",
      "box_style": "",
      "children": [
       "IPY_MODEL_b18b7c0db9ff437da7bb629e5245f165",
       "IPY_MODEL_4fa3db9c495a44218a52c23f26f103d9"
      ],
      "layout": "IPY_MODEL_7d167fa42cbe49d9a90dabfd2c77f83b"
     }
    },
    "21ab9b8d89cb4d14a4d0a77f6ce5d282": {
     "model_module": "@jupyter-widgets/controls",
     "model_name": "HTMLModel",
     "state": {
      "_dom_classes": [],
      "_model_module": "@jupyter-widgets/controls",
      "_model_module_version": "1.5.0",
      "_model_name": "HTMLModel",
      "_view_count": null,
      "_view_module": "@jupyter-widgets/controls",
      "_view_module_version": "1.5.0",
      "_view_name": "HTMLView",
      "description": "",
      "description_tooltip": null,
      "layout": "IPY_MODEL_eaacf40ee8bb4b77aefbb3889a784e49",
      "placeholder": "​",
      "style": "IPY_MODEL_a32da3d1716444bc96714c017657c6e8",
      "value": " 262144/0 [09:25&lt;00:00, 462.07 examples/s]"
     }
    },
    "235076c3a3414a38af631ba287ccec25": {
     "model_module": "@jupyter-widgets/controls",
     "model_name": "FloatProgressModel",
     "state": {
      "_dom_classes": [],
      "_model_module": "@jupyter-widgets/controls",
      "_model_module_version": "1.5.0",
      "_model_name": "FloatProgressModel",
      "_view_count": null,
      "_view_module": "@jupyter-widgets/controls",
      "_view_module_version": "1.5.0",
      "_view_name": "ProgressView",
      "bar_style": "danger",
      "description": "100%",
      "description_tooltip": null,
      "layout": "IPY_MODEL_47ff2b40ce9f40789213ce7f490f0221",
      "max": 262144,
      "min": 0,
      "orientation": "horizontal",
      "style": "IPY_MODEL_b47da464780a40259596dd1aaaa16fbf",
      "value": 261875
     }
    },
    "250b7eb5efaf4fc4888748b986de5a69": {
     "model_module": "@jupyter-widgets/controls",
     "model_name": "HBoxModel",
     "state": {
      "_dom_classes": [],
      "_model_module": "@jupyter-widgets/controls",
      "_model_module_version": "1.5.0",
      "_model_name": "HBoxModel",
      "_view_count": null,
      "_view_module": "@jupyter-widgets/controls",
      "_view_module_version": "1.5.0",
      "_view_name": "HBoxView",
      "box_style": "",
      "children": [
       "IPY_MODEL_5c2295eae4ac4ed287832dff8e6679fd",
       "IPY_MODEL_e537f7dab82448e78b0e342f9517d3c5"
      ],
      "layout": "IPY_MODEL_90d23fc5353947bfb943528228810806"
     }
    },
    "2523a86e6e234f88a7c32fcaf6e3d960": {
     "model_module": "@jupyter-widgets/controls",
     "model_name": "HBoxModel",
     "state": {
      "_dom_classes": [],
      "_model_module": "@jupyter-widgets/controls",
      "_model_module_version": "1.5.0",
      "_model_name": "HBoxModel",
      "_view_count": null,
      "_view_module": "@jupyter-widgets/controls",
      "_view_module_version": "1.5.0",
      "_view_name": "HBoxView",
      "box_style": "",
      "children": [
       "IPY_MODEL_814cccf0c9234899ba4e5664f1a6d008",
       "IPY_MODEL_a0c3cb6953a14446ae8f4c65c33459b9"
      ],
      "layout": "IPY_MODEL_37e0340cc66d43239cf3b2b65e8707bb"
     }
    },
    "3776358d870e47a1ac3e7c959ddf991d": {
     "model_module": "@jupyter-widgets/base",
     "model_name": "LayoutModel",
     "state": {
      "_model_module": "@jupyter-widgets/base",
      "_model_module_version": "1.2.0",
      "_model_name": "LayoutModel",
      "_view_count": null,
      "_view_module": "@jupyter-widgets/base",
      "_view_module_version": "1.2.0",
      "_view_name": "LayoutView",
      "align_content": null,
      "align_items": null,
      "align_self": null,
      "border": null,
      "bottom": null,
      "display": null,
      "flex": null,
      "flex_flow": null,
      "grid_area": null,
      "grid_auto_columns": null,
      "grid_auto_flow": null,
      "grid_auto_rows": null,
      "grid_column": null,
      "grid_gap": null,
      "grid_row": null,
      "grid_template_areas": null,
      "grid_template_columns": null,
      "grid_template_rows": null,
      "height": null,
      "justify_content": null,
      "justify_items": null,
      "left": null,
      "margin": null,
      "max_height": null,
      "max_width": null,
      "min_height": null,
      "min_width": null,
      "object_fit": null,
      "object_position": null,
      "order": null,
      "overflow": null,
      "overflow_x": null,
      "overflow_y": null,
      "padding": null,
      "right": null,
      "top": null,
      "visibility": null,
      "width": null
     }
    },
    "37e0340cc66d43239cf3b2b65e8707bb": {
     "model_module": "@jupyter-widgets/base",
     "model_name": "LayoutModel",
     "state": {
      "_model_module": "@jupyter-widgets/base",
      "_model_module_version": "1.2.0",
      "_model_name": "LayoutModel",
      "_view_count": null,
      "_view_module": "@jupyter-widgets/base",
      "_view_module_version": "1.2.0",
      "_view_name": "LayoutView",
      "align_content": null,
      "align_items": null,
      "align_self": null,
      "border": null,
      "bottom": null,
      "display": null,
      "flex": null,
      "flex_flow": null,
      "grid_area": null,
      "grid_auto_columns": null,
      "grid_auto_flow": null,
      "grid_auto_rows": null,
      "grid_column": null,
      "grid_gap": null,
      "grid_row": null,
      "grid_template_areas": null,
      "grid_template_columns": null,
      "grid_template_rows": null,
      "height": null,
      "justify_content": null,
      "justify_items": null,
      "left": null,
      "margin": null,
      "max_height": null,
      "max_width": null,
      "min_height": null,
      "min_width": null,
      "object_fit": null,
      "object_position": null,
      "order": null,
      "overflow": null,
      "overflow_x": null,
      "overflow_y": null,
      "padding": null,
      "right": null,
      "top": null,
      "visibility": null,
      "width": null
     }
    },
    "3dd3f634e89649e59fd2820db567eb9a": {
     "model_module": "@jupyter-widgets/controls",
     "model_name": "DescriptionStyleModel",
     "state": {
      "_model_module": "@jupyter-widgets/controls",
      "_model_module_version": "1.5.0",
      "_model_name": "DescriptionStyleModel",
      "_view_count": null,
      "_view_module": "@jupyter-widgets/base",
      "_view_module_version": "1.2.0",
      "_view_name": "StyleView",
      "description_width": ""
     }
    },
    "41f71e513162468cb5907a63a81d7eb2": {
     "model_module": "@jupyter-widgets/base",
     "model_name": "LayoutModel",
     "state": {
      "_model_module": "@jupyter-widgets/base",
      "_model_module_version": "1.2.0",
      "_model_name": "LayoutModel",
      "_view_count": null,
      "_view_module": "@jupyter-widgets/base",
      "_view_module_version": "1.2.0",
      "_view_name": "LayoutView",
      "align_content": null,
      "align_items": null,
      "align_self": null,
      "border": null,
      "bottom": null,
      "display": null,
      "flex": null,
      "flex_flow": null,
      "grid_area": null,
      "grid_auto_columns": null,
      "grid_auto_flow": null,
      "grid_auto_rows": null,
      "grid_column": null,
      "grid_gap": null,
      "grid_row": null,
      "grid_template_areas": null,
      "grid_template_columns": null,
      "grid_template_rows": null,
      "height": null,
      "justify_content": null,
      "justify_items": null,
      "left": null,
      "margin": null,
      "max_height": null,
      "max_width": null,
      "min_height": null,
      "min_width": null,
      "object_fit": null,
      "object_position": null,
      "order": null,
      "overflow": null,
      "overflow_x": null,
      "overflow_y": null,
      "padding": null,
      "right": null,
      "top": null,
      "visibility": null,
      "width": null
     }
    },
    "4475ba07b01b45ab886f7b6783012ccc": {
     "model_module": "@jupyter-widgets/controls",
     "model_name": "DescriptionStyleModel",
     "state": {
      "_model_module": "@jupyter-widgets/controls",
      "_model_module_version": "1.5.0",
      "_model_name": "DescriptionStyleModel",
      "_view_count": null,
      "_view_module": "@jupyter-widgets/base",
      "_view_module_version": "1.2.0",
      "_view_name": "StyleView",
      "description_width": ""
     }
    },
    "46b166393eea4852b7f60a2f272b4d62": {
     "model_module": "@jupyter-widgets/controls",
     "model_name": "HBoxModel",
     "state": {
      "_dom_classes": [],
      "_model_module": "@jupyter-widgets/controls",
      "_model_module_version": "1.5.0",
      "_model_name": "HBoxModel",
      "_view_count": null,
      "_view_module": "@jupyter-widgets/controls",
      "_view_module_version": "1.5.0",
      "_view_name": "HBoxView",
      "box_style": "",
      "children": [
       "IPY_MODEL_6862670e63ed4fcc84c425e9ec75c5e5",
       "IPY_MODEL_a5b5234596d34b23857cea332cdb1532"
      ],
      "layout": "IPY_MODEL_a909d078ce7c42599e25bbffcd7fc911"
     }
    },
    "47ff2b40ce9f40789213ce7f490f0221": {
     "model_module": "@jupyter-widgets/base",
     "model_name": "LayoutModel",
     "state": {
      "_model_module": "@jupyter-widgets/base",
      "_model_module_version": "1.2.0",
      "_model_name": "LayoutModel",
      "_view_count": null,
      "_view_module": "@jupyter-widgets/base",
      "_view_module_version": "1.2.0",
      "_view_name": "LayoutView",
      "align_content": null,
      "align_items": null,
      "align_self": null,
      "border": null,
      "bottom": null,
      "display": null,
      "flex": null,
      "flex_flow": null,
      "grid_area": null,
      "grid_auto_columns": null,
      "grid_auto_flow": null,
      "grid_auto_rows": null,
      "grid_column": null,
      "grid_gap": null,
      "grid_row": null,
      "grid_template_areas": null,
      "grid_template_columns": null,
      "grid_template_rows": null,
      "height": null,
      "justify_content": null,
      "justify_items": null,
      "left": null,
      "margin": null,
      "max_height": null,
      "max_width": null,
      "min_height": null,
      "min_width": null,
      "object_fit": null,
      "object_position": null,
      "order": null,
      "overflow": null,
      "overflow_x": null,
      "overflow_y": null,
      "padding": null,
      "right": null,
      "top": null,
      "visibility": null,
      "width": null
     }
    },
    "4c6233b057034afdada26b6c1b6ab1ed": {
     "model_module": "@jupyter-widgets/controls",
     "model_name": "ProgressStyleModel",
     "state": {
      "_model_module": "@jupyter-widgets/controls",
      "_model_module_version": "1.5.0",
      "_model_name": "ProgressStyleModel",
      "_view_count": null,
      "_view_module": "@jupyter-widgets/base",
      "_view_module_version": "1.2.0",
      "_view_name": "StyleView",
      "bar_color": null,
      "description_width": "initial"
     }
    },
    "4c68265a9b03476b8ed18bc347988e68": {
     "model_module": "@jupyter-widgets/controls",
     "model_name": "HTMLModel",
     "state": {
      "_dom_classes": [],
      "_model_module": "@jupyter-widgets/controls",
      "_model_module_version": "1.5.0",
      "_model_name": "HTMLModel",
      "_view_count": null,
      "_view_module": "@jupyter-widgets/controls",
      "_view_module_version": "1.5.0",
      "_view_name": "HTMLView",
      "description": "",
      "description_tooltip": null,
      "layout": "IPY_MODEL_dadde9888d52483485a73eb8ed55c846",
      "placeholder": "​",
      "style": "IPY_MODEL_d4ad0701711c4239a6d80548d087aee2",
      "value": " 32768/0 [01:08&lt;00:00, 491.24 examples/s]"
     }
    },
    "4fa3db9c495a44218a52c23f26f103d9": {
     "model_module": "@jupyter-widgets/controls",
     "model_name": "HTMLModel",
     "state": {
      "_dom_classes": [],
      "_model_module": "@jupyter-widgets/controls",
      "_model_module_version": "1.5.0",
      "_model_name": "HTMLModel",
      "_view_count": null,
      "_view_module": "@jupyter-widgets/controls",
      "_view_module_version": "1.5.0",
      "_view_name": "HTMLView",
      "description": "",
      "description_tooltip": null,
      "layout": "IPY_MODEL_94e9750bd6fe4dbc817c6746df96bb1d",
      "placeholder": "​",
      "style": "IPY_MODEL_0aa5f09dba564a5a8d3b2a5a79d1129e",
      "value": " 6/6 [03:51&lt;00:00, 38.58s/ url]"
     }
    },
    "500d223f3a2843cb9a0a8ff355d459e6": {
     "model_module": "@jupyter-widgets/base",
     "model_name": "LayoutModel",
     "state": {
      "_model_module": "@jupyter-widgets/base",
      "_model_module_version": "1.2.0",
      "_model_name": "LayoutModel",
      "_view_count": null,
      "_view_module": "@jupyter-widgets/base",
      "_view_module_version": "1.2.0",
      "_view_name": "LayoutView",
      "align_content": null,
      "align_items": null,
      "align_self": null,
      "border": null,
      "bottom": null,
      "display": null,
      "flex": null,
      "flex_flow": null,
      "grid_area": null,
      "grid_auto_columns": null,
      "grid_auto_flow": null,
      "grid_auto_rows": null,
      "grid_column": null,
      "grid_gap": null,
      "grid_row": null,
      "grid_template_areas": null,
      "grid_template_columns": null,
      "grid_template_rows": null,
      "height": null,
      "justify_content": null,
      "justify_items": null,
      "left": null,
      "margin": null,
      "max_height": null,
      "max_width": null,
      "min_height": null,
      "min_width": null,
      "object_fit": null,
      "object_position": null,
      "order": null,
      "overflow": null,
      "overflow_x": null,
      "overflow_y": null,
      "padding": null,
      "right": null,
      "top": null,
      "visibility": null,
      "width": null
     }
    },
    "5514ca7866b84efda07d6994aca05d75": {
     "model_module": "@jupyter-widgets/controls",
     "model_name": "HBoxModel",
     "state": {
      "_dom_classes": [],
      "_model_module": "@jupyter-widgets/controls",
      "_model_module_version": "1.5.0",
      "_model_name": "HBoxModel",
      "_view_count": null,
      "_view_module": "@jupyter-widgets/controls",
      "_view_module_version": "1.5.0",
      "_view_name": "HBoxView",
      "box_style": "",
      "children": [
       "IPY_MODEL_dac9d918b22844f69275835f068dbcf6",
       "IPY_MODEL_ff71b3c1c282487895747c4dcccd8bb7"
      ],
      "layout": "IPY_MODEL_6ff068a2259c446ca319cd01260d89d7"
     }
    },
    "58e0b9bb6f934569a06f4ea93fc314e9": {
     "model_module": "@jupyter-widgets/base",
     "model_name": "LayoutModel",
     "state": {
      "_model_module": "@jupyter-widgets/base",
      "_model_module_version": "1.2.0",
      "_model_name": "LayoutModel",
      "_view_count": null,
      "_view_module": "@jupyter-widgets/base",
      "_view_module_version": "1.2.0",
      "_view_name": "LayoutView",
      "align_content": null,
      "align_items": null,
      "align_self": null,
      "border": null,
      "bottom": null,
      "display": null,
      "flex": null,
      "flex_flow": null,
      "grid_area": null,
      "grid_auto_columns": null,
      "grid_auto_flow": null,
      "grid_auto_rows": null,
      "grid_column": null,
      "grid_gap": null,
      "grid_row": null,
      "grid_template_areas": null,
      "grid_template_columns": null,
      "grid_template_rows": null,
      "height": null,
      "justify_content": null,
      "justify_items": null,
      "left": null,
      "margin": null,
      "max_height": null,
      "max_width": null,
      "min_height": null,
      "min_width": null,
      "object_fit": null,
      "object_position": null,
      "order": null,
      "overflow": null,
      "overflow_x": null,
      "overflow_y": null,
      "padding": null,
      "right": null,
      "top": null,
      "visibility": null,
      "width": null
     }
    },
    "5c2295eae4ac4ed287832dff8e6679fd": {
     "model_module": "@jupyter-widgets/controls",
     "model_name": "FloatProgressModel",
     "state": {
      "_dom_classes": [],
      "_model_module": "@jupyter-widgets/controls",
      "_model_module_version": "1.5.0",
      "_model_name": "FloatProgressModel",
      "_view_count": null,
      "_view_module": "@jupyter-widgets/controls",
      "_view_module_version": "1.5.0",
      "_view_name": "ProgressView",
      "bar_style": "info",
      "description": "",
      "description_tooltip": null,
      "layout": "IPY_MODEL_61984bd07f724deeb2bc80e6b656b76f",
      "max": 1,
      "min": 0,
      "orientation": "horizontal",
      "style": "IPY_MODEL_ba51fe7d309445f3a5300230800304f2",
      "value": 1
     }
    },
    "61984bd07f724deeb2bc80e6b656b76f": {
     "model_module": "@jupyter-widgets/base",
     "model_name": "LayoutModel",
     "state": {
      "_model_module": "@jupyter-widgets/base",
      "_model_module_version": "1.2.0",
      "_model_name": "LayoutModel",
      "_view_count": null,
      "_view_module": "@jupyter-widgets/base",
      "_view_module_version": "1.2.0",
      "_view_name": "LayoutView",
      "align_content": null,
      "align_items": null,
      "align_self": null,
      "border": null,
      "bottom": null,
      "display": null,
      "flex": null,
      "flex_flow": null,
      "grid_area": null,
      "grid_auto_columns": null,
      "grid_auto_flow": null,
      "grid_auto_rows": null,
      "grid_column": null,
      "grid_gap": null,
      "grid_row": null,
      "grid_template_areas": null,
      "grid_template_columns": null,
      "grid_template_rows": null,
      "height": null,
      "justify_content": null,
      "justify_items": null,
      "left": null,
      "margin": null,
      "max_height": null,
      "max_width": null,
      "min_height": null,
      "min_width": null,
      "object_fit": null,
      "object_position": null,
      "order": null,
      "overflow": null,
      "overflow_x": null,
      "overflow_y": null,
      "padding": null,
      "right": null,
      "top": null,
      "visibility": null,
      "width": null
     }
    },
    "6862670e63ed4fcc84c425e9ec75c5e5": {
     "model_module": "@jupyter-widgets/controls",
     "model_name": "FloatProgressModel",
     "state": {
      "_dom_classes": [],
      "_model_module": "@jupyter-widgets/controls",
      "_model_module_version": "1.5.0",
      "_model_name": "FloatProgressModel",
      "_view_count": null,
      "_view_module": "@jupyter-widgets/controls",
      "_view_module_version": "1.5.0",
      "_view_name": "ProgressView",
      "bar_style": "danger",
      "description": " 98%",
      "description_tooltip": null,
      "layout": "IPY_MODEL_58e0b9bb6f934569a06f4ea93fc314e9",
      "max": 32768,
      "min": 0,
      "orientation": "horizontal",
      "style": "IPY_MODEL_4c6233b057034afdada26b6c1b6ab1ed",
      "value": 32063
     }
    },
    "6a6a6d92e6f04ef28c1d30b72c7d7614": {
     "model_module": "@jupyter-widgets/controls",
     "model_name": "HBoxModel",
     "state": {
      "_dom_classes": [],
      "_model_module": "@jupyter-widgets/controls",
      "_model_module_version": "1.5.0",
      "_model_name": "HBoxModel",
      "_view_count": null,
      "_view_module": "@jupyter-widgets/controls",
      "_view_module_version": "1.5.0",
      "_view_name": "HBoxView",
      "box_style": "",
      "children": [
       "IPY_MODEL_1a22d420ac7b4029ba8f1681edd3cbbe",
       "IPY_MODEL_a069430718f6456482128fb90c6cbae1"
      ],
      "layout": "IPY_MODEL_dccaba6ec6b04544bd784064bb30bef6"
     }
    },
    "6ff068a2259c446ca319cd01260d89d7": {
     "model_module": "@jupyter-widgets/base",
     "model_name": "LayoutModel",
     "state": {
      "_model_module": "@jupyter-widgets/base",
      "_model_module_version": "1.2.0",
      "_model_name": "LayoutModel",
      "_view_count": null,
      "_view_module": "@jupyter-widgets/base",
      "_view_module_version": "1.2.0",
      "_view_name": "LayoutView",
      "align_content": null,
      "align_items": null,
      "align_self": null,
      "border": null,
      "bottom": null,
      "display": null,
      "flex": null,
      "flex_flow": null,
      "grid_area": null,
      "grid_auto_columns": null,
      "grid_auto_flow": null,
      "grid_auto_rows": null,
      "grid_column": null,
      "grid_gap": null,
      "grid_row": null,
      "grid_template_areas": null,
      "grid_template_columns": null,
      "grid_template_rows": null,
      "height": null,
      "justify_content": null,
      "justify_items": null,
      "left": null,
      "margin": null,
      "max_height": null,
      "max_width": null,
      "min_height": null,
      "min_width": null,
      "object_fit": null,
      "object_position": null,
      "order": null,
      "overflow": null,
      "overflow_x": null,
      "overflow_y": null,
      "padding": null,
      "right": null,
      "top": null,
      "visibility": null,
      "width": null
     }
    },
    "71ce553076e14c30a4c4d8ced21e06d8": {
     "model_module": "@jupyter-widgets/controls",
     "model_name": "ProgressStyleModel",
     "state": {
      "_model_module": "@jupyter-widgets/controls",
      "_model_module_version": "1.5.0",
      "_model_name": "ProgressStyleModel",
      "_view_count": null,
      "_view_module": "@jupyter-widgets/base",
      "_view_module_version": "1.2.0",
      "_view_name": "StyleView",
      "bar_color": null,
      "description_width": "initial"
     }
    },
    "733777ac02584c86a093217b9dc0848e": {
     "model_module": "@jupyter-widgets/controls",
     "model_name": "HBoxModel",
     "state": {
      "_dom_classes": [],
      "_model_module": "@jupyter-widgets/controls",
      "_model_module_version": "1.5.0",
      "_model_name": "HBoxModel",
      "_view_count": null,
      "_view_module": "@jupyter-widgets/controls",
      "_view_module_version": "1.5.0",
      "_view_name": "HBoxView",
      "box_style": "",
      "children": [
       "IPY_MODEL_f90edde34560463e8061bd4aaf0d7c88",
       "IPY_MODEL_21ab9b8d89cb4d14a4d0a77f6ce5d282"
      ],
      "layout": "IPY_MODEL_d5fee8032f56482a9950c5cacb6fcc4d"
     }
    },
    "77660b98a04c4a7e82f0d7fb23ff0180": {
     "model_module": "@jupyter-widgets/controls",
     "model_name": "DescriptionStyleModel",
     "state": {
      "_model_module": "@jupyter-widgets/controls",
      "_model_module_version": "1.5.0",
      "_model_name": "DescriptionStyleModel",
      "_view_count": null,
      "_view_module": "@jupyter-widgets/base",
      "_view_module_version": "1.2.0",
      "_view_name": "StyleView",
      "description_width": ""
     }
    },
    "7d167fa42cbe49d9a90dabfd2c77f83b": {
     "model_module": "@jupyter-widgets/base",
     "model_name": "LayoutModel",
     "state": {
      "_model_module": "@jupyter-widgets/base",
      "_model_module_version": "1.2.0",
      "_model_name": "LayoutModel",
      "_view_count": null,
      "_view_module": "@jupyter-widgets/base",
      "_view_module_version": "1.2.0",
      "_view_name": "LayoutView",
      "align_content": null,
      "align_items": null,
      "align_self": null,
      "border": null,
      "bottom": null,
      "display": null,
      "flex": null,
      "flex_flow": null,
      "grid_area": null,
      "grid_auto_columns": null,
      "grid_auto_flow": null,
      "grid_auto_rows": null,
      "grid_column": null,
      "grid_gap": null,
      "grid_row": null,
      "grid_template_areas": null,
      "grid_template_columns": null,
      "grid_template_rows": null,
      "height": null,
      "justify_content": null,
      "justify_items": null,
      "left": null,
      "margin": null,
      "max_height": null,
      "max_width": null,
      "min_height": null,
      "min_width": null,
      "object_fit": null,
      "object_position": null,
      "order": null,
      "overflow": null,
      "overflow_x": null,
      "overflow_y": null,
      "padding": null,
      "right": null,
      "top": null,
      "visibility": null,
      "width": null
     }
    },
    "814cccf0c9234899ba4e5664f1a6d008": {
     "model_module": "@jupyter-widgets/controls",
     "model_name": "FloatProgressModel",
     "state": {
      "_dom_classes": [],
      "_model_module": "@jupyter-widgets/controls",
      "_model_module_version": "1.5.0",
      "_model_name": "FloatProgressModel",
      "_view_count": null,
      "_view_module": "@jupyter-widgets/controls",
      "_view_module_version": "1.5.0",
      "_view_name": "ProgressView",
      "bar_style": "danger",
      "description": " 97%",
      "description_tooltip": null,
      "layout": "IPY_MODEL_a3c9e14625aa49caa5db2fcc89eced9a",
      "max": 32768,
      "min": 0,
      "orientation": "horizontal",
      "style": "IPY_MODEL_d5a8390039354436ba20d4dc091a9c1f",
      "value": 31765
     }
    },
    "8cbb80291bd64652a1b0d7f082c5f856": {
     "model_module": "@jupyter-widgets/controls",
     "model_name": "DescriptionStyleModel",
     "state": {
      "_model_module": "@jupyter-widgets/controls",
      "_model_module_version": "1.5.0",
      "_model_name": "DescriptionStyleModel",
      "_view_count": null,
      "_view_module": "@jupyter-widgets/base",
      "_view_module_version": "1.2.0",
      "_view_name": "StyleView",
      "description_width": ""
     }
    },
    "9073ba4f8c8e4e0190cd6821005bba92": {
     "model_module": "@jupyter-widgets/controls",
     "model_name": "FloatProgressModel",
     "state": {
      "_dom_classes": [],
      "_model_module": "@jupyter-widgets/controls",
      "_model_module_version": "1.5.0",
      "_model_name": "FloatProgressModel",
      "_view_count": null,
      "_view_module": "@jupyter-widgets/controls",
      "_view_module_version": "1.5.0",
      "_view_name": "ProgressView",
      "bar_style": "info",
      "description": "",
      "description_tooltip": null,
      "layout": "IPY_MODEL_0a808ee3799d49c29cabf0d16ca30dab",
      "max": 1,
      "min": 0,
      "orientation": "horizontal",
      "style": "IPY_MODEL_71ce553076e14c30a4c4d8ced21e06d8",
      "value": 1
     }
    },
    "907fb203d0ba4d3781e815b12103c2d0": {
     "model_module": "@jupyter-widgets/base",
     "model_name": "LayoutModel",
     "state": {
      "_model_module": "@jupyter-widgets/base",
      "_model_module_version": "1.2.0",
      "_model_name": "LayoutModel",
      "_view_count": null,
      "_view_module": "@jupyter-widgets/base",
      "_view_module_version": "1.2.0",
      "_view_name": "LayoutView",
      "align_content": null,
      "align_items": null,
      "align_self": null,
      "border": null,
      "bottom": null,
      "display": null,
      "flex": null,
      "flex_flow": null,
      "grid_area": null,
      "grid_auto_columns": null,
      "grid_auto_flow": null,
      "grid_auto_rows": null,
      "grid_column": null,
      "grid_gap": null,
      "grid_row": null,
      "grid_template_areas": null,
      "grid_template_columns": null,
      "grid_template_rows": null,
      "height": null,
      "justify_content": null,
      "justify_items": null,
      "left": null,
      "margin": null,
      "max_height": null,
      "max_width": null,
      "min_height": null,
      "min_width": null,
      "object_fit": null,
      "object_position": null,
      "order": null,
      "overflow": null,
      "overflow_x": null,
      "overflow_y": null,
      "padding": null,
      "right": null,
      "top": null,
      "visibility": null,
      "width": null
     }
    },
    "90d23fc5353947bfb943528228810806": {
     "model_module": "@jupyter-widgets/base",
     "model_name": "LayoutModel",
     "state": {
      "_model_module": "@jupyter-widgets/base",
      "_model_module_version": "1.2.0",
      "_model_name": "LayoutModel",
      "_view_count": null,
      "_view_module": "@jupyter-widgets/base",
      "_view_module_version": "1.2.0",
      "_view_name": "LayoutView",
      "align_content": null,
      "align_items": null,
      "align_self": null,
      "border": null,
      "bottom": null,
      "display": null,
      "flex": null,
      "flex_flow": null,
      "grid_area": null,
      "grid_auto_columns": null,
      "grid_auto_flow": null,
      "grid_auto_rows": null,
      "grid_column": null,
      "grid_gap": null,
      "grid_row": null,
      "grid_template_areas": null,
      "grid_template_columns": null,
      "grid_template_rows": null,
      "height": null,
      "justify_content": null,
      "justify_items": null,
      "left": null,
      "margin": null,
      "max_height": null,
      "max_width": null,
      "min_height": null,
      "min_width": null,
      "object_fit": null,
      "object_position": null,
      "order": null,
      "overflow": null,
      "overflow_x": null,
      "overflow_y": null,
      "padding": null,
      "right": null,
      "top": null,
      "visibility": null,
      "width": null
     }
    },
    "94e9750bd6fe4dbc817c6746df96bb1d": {
     "model_module": "@jupyter-widgets/base",
     "model_name": "LayoutModel",
     "state": {
      "_model_module": "@jupyter-widgets/base",
      "_model_module_version": "1.2.0",
      "_model_name": "LayoutModel",
      "_view_count": null,
      "_view_module": "@jupyter-widgets/base",
      "_view_module_version": "1.2.0",
      "_view_name": "LayoutView",
      "align_content": null,
      "align_items": null,
      "align_self": null,
      "border": null,
      "bottom": null,
      "display": null,
      "flex": null,
      "flex_flow": null,
      "grid_area": null,
      "grid_auto_columns": null,
      "grid_auto_flow": null,
      "grid_auto_rows": null,
      "grid_column": null,
      "grid_gap": null,
      "grid_row": null,
      "grid_template_areas": null,
      "grid_template_columns": null,
      "grid_template_rows": null,
      "height": null,
      "justify_content": null,
      "justify_items": null,
      "left": null,
      "margin": null,
      "max_height": null,
      "max_width": null,
      "min_height": null,
      "min_width": null,
      "object_fit": null,
      "object_position": null,
      "order": null,
      "overflow": null,
      "overflow_x": null,
      "overflow_y": null,
      "padding": null,
      "right": null,
      "top": null,
      "visibility": null,
      "width": null
     }
    },
    "9e33cb527b404083bbfa6478d1f86e4e": {
     "model_module": "@jupyter-widgets/controls",
     "model_name": "ProgressStyleModel",
     "state": {
      "_model_module": "@jupyter-widgets/controls",
      "_model_module_version": "1.5.0",
      "_model_name": "ProgressStyleModel",
      "_view_count": null,
      "_view_module": "@jupyter-widgets/base",
      "_view_module_version": "1.2.0",
      "_view_name": "StyleView",
      "bar_color": null,
      "description_width": "initial"
     }
    },
    "9ec4abf40061445ab3fae0e1e8c0a2f2": {
     "model_module": "@jupyter-widgets/controls",
     "model_name": "ProgressStyleModel",
     "state": {
      "_model_module": "@jupyter-widgets/controls",
      "_model_module_version": "1.5.0",
      "_model_name": "ProgressStyleModel",
      "_view_count": null,
      "_view_module": "@jupyter-widgets/base",
      "_view_module_version": "1.2.0",
      "_view_name": "StyleView",
      "bar_color": null,
      "description_width": "initial"
     }
    },
    "a069430718f6456482128fb90c6cbae1": {
     "model_module": "@jupyter-widgets/controls",
     "model_name": "HTMLModel",
     "state": {
      "_dom_classes": [],
      "_model_module": "@jupyter-widgets/controls",
      "_model_module_version": "1.5.0",
      "_model_name": "HTMLModel",
      "_view_count": null,
      "_view_module": "@jupyter-widgets/controls",
      "_view_module_version": "1.5.0",
      "_view_name": "HTMLView",
      "description": "",
      "description_tooltip": null,
      "layout": "IPY_MODEL_160097751c3944c897420fe5f3883cdb",
      "placeholder": "​",
      "style": "IPY_MODEL_4475ba07b01b45ab886f7b6783012ccc",
      "value": " 7654/7654 [03:51&lt;00:00, 33.07 MiB/s]"
     }
    },
    "a0c3cb6953a14446ae8f4c65c33459b9": {
     "model_module": "@jupyter-widgets/controls",
     "model_name": "HTMLModel",
     "state": {
      "_dom_classes": [],
      "_model_module": "@jupyter-widgets/controls",
      "_model_module_version": "1.5.0",
      "_model_name": "HTMLModel",
      "_view_count": null,
      "_view_module": "@jupyter-widgets/controls",
      "_view_module_version": "1.5.0",
      "_view_name": "HTMLView",
      "description": "",
      "description_tooltip": null,
      "layout": "IPY_MODEL_b4eeb5db8dba48b79a01540d83cb20d1",
      "placeholder": "​",
      "style": "IPY_MODEL_f8bc8951b6294418ae728ac6ea554bba",
      "value": " 31765/32768 [00:20&lt;00:00, 11222.72 examples/s]"
     }
    },
    "a32da3d1716444bc96714c017657c6e8": {
     "model_module": "@jupyter-widgets/controls",
     "model_name": "DescriptionStyleModel",
     "state": {
      "_model_module": "@jupyter-widgets/controls",
      "_model_module_version": "1.5.0",
      "_model_name": "DescriptionStyleModel",
      "_view_count": null,
      "_view_module": "@jupyter-widgets/base",
      "_view_module_version": "1.2.0",
      "_view_name": "StyleView",
      "description_width": ""
     }
    },
    "a3c9e14625aa49caa5db2fcc89eced9a": {
     "model_module": "@jupyter-widgets/base",
     "model_name": "LayoutModel",
     "state": {
      "_model_module": "@jupyter-widgets/base",
      "_model_module_version": "1.2.0",
      "_model_name": "LayoutModel",
      "_view_count": null,
      "_view_module": "@jupyter-widgets/base",
      "_view_module_version": "1.2.0",
      "_view_name": "LayoutView",
      "align_content": null,
      "align_items": null,
      "align_self": null,
      "border": null,
      "bottom": null,
      "display": null,
      "flex": null,
      "flex_flow": null,
      "grid_area": null,
      "grid_auto_columns": null,
      "grid_auto_flow": null,
      "grid_auto_rows": null,
      "grid_column": null,
      "grid_gap": null,
      "grid_row": null,
      "grid_template_areas": null,
      "grid_template_columns": null,
      "grid_template_rows": null,
      "height": null,
      "justify_content": null,
      "justify_items": null,
      "left": null,
      "margin": null,
      "max_height": null,
      "max_width": null,
      "min_height": null,
      "min_width": null,
      "object_fit": null,
      "object_position": null,
      "order": null,
      "overflow": null,
      "overflow_x": null,
      "overflow_y": null,
      "padding": null,
      "right": null,
      "top": null,
      "visibility": null,
      "width": null
     }
    },
    "a5b5234596d34b23857cea332cdb1532": {
     "model_module": "@jupyter-widgets/controls",
     "model_name": "HTMLModel",
     "state": {
      "_dom_classes": [],
      "_model_module": "@jupyter-widgets/controls",
      "_model_module_version": "1.5.0",
      "_model_name": "HTMLModel",
      "_view_count": null,
      "_view_module": "@jupyter-widgets/controls",
      "_view_module_version": "1.5.0",
      "_view_name": "HTMLView",
      "description": "",
      "description_tooltip": null,
      "layout": "IPY_MODEL_3776358d870e47a1ac3e7c959ddf991d",
      "placeholder": "​",
      "style": "IPY_MODEL_8cbb80291bd64652a1b0d7f082c5f856",
      "value": " 32063/32768 [00:03&lt;00:00, 8210.94 examples/s]"
     }
    },
    "a909d078ce7c42599e25bbffcd7fc911": {
     "model_module": "@jupyter-widgets/base",
     "model_name": "LayoutModel",
     "state": {
      "_model_module": "@jupyter-widgets/base",
      "_model_module_version": "1.2.0",
      "_model_name": "LayoutModel",
      "_view_count": null,
      "_view_module": "@jupyter-widgets/base",
      "_view_module_version": "1.2.0",
      "_view_name": "LayoutView",
      "align_content": null,
      "align_items": null,
      "align_self": null,
      "border": null,
      "bottom": null,
      "display": null,
      "flex": null,
      "flex_flow": null,
      "grid_area": null,
      "grid_auto_columns": null,
      "grid_auto_flow": null,
      "grid_auto_rows": null,
      "grid_column": null,
      "grid_gap": null,
      "grid_row": null,
      "grid_template_areas": null,
      "grid_template_columns": null,
      "grid_template_rows": null,
      "height": null,
      "justify_content": null,
      "justify_items": null,
      "left": null,
      "margin": null,
      "max_height": null,
      "max_width": null,
      "min_height": null,
      "min_width": null,
      "object_fit": null,
      "object_position": null,
      "order": null,
      "overflow": null,
      "overflow_x": null,
      "overflow_y": null,
      "padding": null,
      "right": null,
      "top": null,
      "visibility": null,
      "width": null
     }
    },
    "af9cbcf9fc504ed6956628b470ad42c7": {
     "model_module": "@jupyter-widgets/base",
     "model_name": "LayoutModel",
     "state": {
      "_model_module": "@jupyter-widgets/base",
      "_model_module_version": "1.2.0",
      "_model_name": "LayoutModel",
      "_view_count": null,
      "_view_module": "@jupyter-widgets/base",
      "_view_module_version": "1.2.0",
      "_view_name": "LayoutView",
      "align_content": null,
      "align_items": null,
      "align_self": null,
      "border": null,
      "bottom": null,
      "display": null,
      "flex": null,
      "flex_flow": null,
      "grid_area": null,
      "grid_auto_columns": null,
      "grid_auto_flow": null,
      "grid_auto_rows": null,
      "grid_column": null,
      "grid_gap": null,
      "grid_row": null,
      "grid_template_areas": null,
      "grid_template_columns": null,
      "grid_template_rows": null,
      "height": null,
      "justify_content": null,
      "justify_items": null,
      "left": null,
      "margin": null,
      "max_height": null,
      "max_width": null,
      "min_height": null,
      "min_width": null,
      "object_fit": null,
      "object_position": null,
      "order": null,
      "overflow": null,
      "overflow_x": null,
      "overflow_y": null,
      "padding": null,
      "right": null,
      "top": null,
      "visibility": null,
      "width": null
     }
    },
    "b18b7c0db9ff437da7bb629e5245f165": {
     "model_module": "@jupyter-widgets/controls",
     "model_name": "FloatProgressModel",
     "state": {
      "_dom_classes": [],
      "_model_module": "@jupyter-widgets/controls",
      "_model_module_version": "1.5.0",
      "_model_name": "FloatProgressModel",
      "_view_count": null,
      "_view_module": "@jupyter-widgets/controls",
      "_view_module_version": "1.5.0",
      "_view_name": "ProgressView",
      "bar_style": "success",
      "description": "Dl Completed...: 100%",
      "description_tooltip": null,
      "layout": "IPY_MODEL_41f71e513162468cb5907a63a81d7eb2",
      "max": 1,
      "min": 0,
      "orientation": "horizontal",
      "style": "IPY_MODEL_9ec4abf40061445ab3fae0e1e8c0a2f2",
      "value": 1
     }
    },
    "b47da464780a40259596dd1aaaa16fbf": {
     "model_module": "@jupyter-widgets/controls",
     "model_name": "ProgressStyleModel",
     "state": {
      "_model_module": "@jupyter-widgets/controls",
      "_model_module_version": "1.5.0",
      "_model_name": "ProgressStyleModel",
      "_view_count": null,
      "_view_module": "@jupyter-widgets/base",
      "_view_module_version": "1.2.0",
      "_view_name": "StyleView",
      "bar_color": null,
      "description_width": "initial"
     }
    },
    "b4eeb5db8dba48b79a01540d83cb20d1": {
     "model_module": "@jupyter-widgets/base",
     "model_name": "LayoutModel",
     "state": {
      "_model_module": "@jupyter-widgets/base",
      "_model_module_version": "1.2.0",
      "_model_name": "LayoutModel",
      "_view_count": null,
      "_view_module": "@jupyter-widgets/base",
      "_view_module_version": "1.2.0",
      "_view_name": "LayoutView",
      "align_content": null,
      "align_items": null,
      "align_self": null,
      "border": null,
      "bottom": null,
      "display": null,
      "flex": null,
      "flex_flow": null,
      "grid_area": null,
      "grid_auto_columns": null,
      "grid_auto_flow": null,
      "grid_auto_rows": null,
      "grid_column": null,
      "grid_gap": null,
      "grid_row": null,
      "grid_template_areas": null,
      "grid_template_columns": null,
      "grid_template_rows": null,
      "height": null,
      "justify_content": null,
      "justify_items": null,
      "left": null,
      "margin": null,
      "max_height": null,
      "max_width": null,
      "min_height": null,
      "min_width": null,
      "object_fit": null,
      "object_position": null,
      "order": null,
      "overflow": null,
      "overflow_x": null,
      "overflow_y": null,
      "padding": null,
      "right": null,
      "top": null,
      "visibility": null,
      "width": null
     }
    },
    "b538454aff9e4be7ab1fa26d55417946": {
     "model_module": "@jupyter-widgets/controls",
     "model_name": "ProgressStyleModel",
     "state": {
      "_model_module": "@jupyter-widgets/controls",
      "_model_module_version": "1.5.0",
      "_model_name": "ProgressStyleModel",
      "_view_count": null,
      "_view_module": "@jupyter-widgets/base",
      "_view_module_version": "1.2.0",
      "_view_name": "StyleView",
      "bar_color": null,
      "description_width": "initial"
     }
    },
    "ba51fe7d309445f3a5300230800304f2": {
     "model_module": "@jupyter-widgets/controls",
     "model_name": "ProgressStyleModel",
     "state": {
      "_model_module": "@jupyter-widgets/controls",
      "_model_module_version": "1.5.0",
      "_model_name": "ProgressStyleModel",
      "_view_count": null,
      "_view_module": "@jupyter-widgets/base",
      "_view_module_version": "1.2.0",
      "_view_name": "StyleView",
      "bar_color": null,
      "description_width": "initial"
     }
    },
    "d4ad0701711c4239a6d80548d087aee2": {
     "model_module": "@jupyter-widgets/controls",
     "model_name": "DescriptionStyleModel",
     "state": {
      "_model_module": "@jupyter-widgets/controls",
      "_model_module_version": "1.5.0",
      "_model_name": "DescriptionStyleModel",
      "_view_count": null,
      "_view_module": "@jupyter-widgets/base",
      "_view_module_version": "1.2.0",
      "_view_name": "StyleView",
      "description_width": ""
     }
    },
    "d5a8390039354436ba20d4dc091a9c1f": {
     "model_module": "@jupyter-widgets/controls",
     "model_name": "ProgressStyleModel",
     "state": {
      "_model_module": "@jupyter-widgets/controls",
      "_model_module_version": "1.5.0",
      "_model_name": "ProgressStyleModel",
      "_view_count": null,
      "_view_module": "@jupyter-widgets/base",
      "_view_module_version": "1.2.0",
      "_view_name": "StyleView",
      "bar_color": null,
      "description_width": "initial"
     }
    },
    "d5fee8032f56482a9950c5cacb6fcc4d": {
     "model_module": "@jupyter-widgets/base",
     "model_name": "LayoutModel",
     "state": {
      "_model_module": "@jupyter-widgets/base",
      "_model_module_version": "1.2.0",
      "_model_name": "LayoutModel",
      "_view_count": null,
      "_view_module": "@jupyter-widgets/base",
      "_view_module_version": "1.2.0",
      "_view_name": "LayoutView",
      "align_content": null,
      "align_items": null,
      "align_self": null,
      "border": null,
      "bottom": null,
      "display": null,
      "flex": null,
      "flex_flow": null,
      "grid_area": null,
      "grid_auto_columns": null,
      "grid_auto_flow": null,
      "grid_auto_rows": null,
      "grid_column": null,
      "grid_gap": null,
      "grid_row": null,
      "grid_template_areas": null,
      "grid_template_columns": null,
      "grid_template_rows": null,
      "height": null,
      "justify_content": null,
      "justify_items": null,
      "left": null,
      "margin": null,
      "max_height": null,
      "max_width": null,
      "min_height": null,
      "min_width": null,
      "object_fit": null,
      "object_position": null,
      "order": null,
      "overflow": null,
      "overflow_x": null,
      "overflow_y": null,
      "padding": null,
      "right": null,
      "top": null,
      "visibility": null,
      "width": null
     }
    },
    "dac9d918b22844f69275835f068dbcf6": {
     "model_module": "@jupyter-widgets/controls",
     "model_name": "FloatProgressModel",
     "state": {
      "_dom_classes": [],
      "_model_module": "@jupyter-widgets/controls",
      "_model_module_version": "1.5.0",
      "_model_name": "FloatProgressModel",
      "_view_count": null,
      "_view_module": "@jupyter-widgets/controls",
      "_view_module_version": "1.5.0",
      "_view_name": "ProgressView",
      "bar_style": "success",
      "description": "Extraction completed...: 100%",
      "description_tooltip": null,
      "layout": "IPY_MODEL_af9cbcf9fc504ed6956628b470ad42c7",
      "max": 1,
      "min": 0,
      "orientation": "horizontal",
      "style": "IPY_MODEL_9e33cb527b404083bbfa6478d1f86e4e",
      "value": 1
     }
    },
    "dadde9888d52483485a73eb8ed55c846": {
     "model_module": "@jupyter-widgets/base",
     "model_name": "LayoutModel",
     "state": {
      "_model_module": "@jupyter-widgets/base",
      "_model_module_version": "1.2.0",
      "_model_name": "LayoutModel",
      "_view_count": null,
      "_view_module": "@jupyter-widgets/base",
      "_view_module_version": "1.2.0",
      "_view_name": "LayoutView",
      "align_content": null,
      "align_items": null,
      "align_self": null,
      "border": null,
      "bottom": null,
      "display": null,
      "flex": null,
      "flex_flow": null,
      "grid_area": null,
      "grid_auto_columns": null,
      "grid_auto_flow": null,
      "grid_auto_rows": null,
      "grid_column": null,
      "grid_gap": null,
      "grid_row": null,
      "grid_template_areas": null,
      "grid_template_columns": null,
      "grid_template_rows": null,
      "height": null,
      "justify_content": null,
      "justify_items": null,
      "left": null,
      "margin": null,
      "max_height": null,
      "max_width": null,
      "min_height": null,
      "min_width": null,
      "object_fit": null,
      "object_position": null,
      "order": null,
      "overflow": null,
      "overflow_x": null,
      "overflow_y": null,
      "padding": null,
      "right": null,
      "top": null,
      "visibility": null,
      "width": null
     }
    },
    "dccaba6ec6b04544bd784064bb30bef6": {
     "model_module": "@jupyter-widgets/base",
     "model_name": "LayoutModel",
     "state": {
      "_model_module": "@jupyter-widgets/base",
      "_model_module_version": "1.2.0",
      "_model_name": "LayoutModel",
      "_view_count": null,
      "_view_module": "@jupyter-widgets/base",
      "_view_module_version": "1.2.0",
      "_view_name": "LayoutView",
      "align_content": null,
      "align_items": null,
      "align_self": null,
      "border": null,
      "bottom": null,
      "display": null,
      "flex": null,
      "flex_flow": null,
      "grid_area": null,
      "grid_auto_columns": null,
      "grid_auto_flow": null,
      "grid_auto_rows": null,
      "grid_column": null,
      "grid_gap": null,
      "grid_row": null,
      "grid_template_areas": null,
      "grid_template_columns": null,
      "grid_template_rows": null,
      "height": null,
      "justify_content": null,
      "justify_items": null,
      "left": null,
      "margin": null,
      "max_height": null,
      "max_width": null,
      "min_height": null,
      "min_width": null,
      "object_fit": null,
      "object_position": null,
      "order": null,
      "overflow": null,
      "overflow_x": null,
      "overflow_y": null,
      "padding": null,
      "right": null,
      "top": null,
      "visibility": null,
      "width": null
     }
    },
    "e537f7dab82448e78b0e342f9517d3c5": {
     "model_module": "@jupyter-widgets/controls",
     "model_name": "HTMLModel",
     "state": {
      "_dom_classes": [],
      "_model_module": "@jupyter-widgets/controls",
      "_model_module_version": "1.5.0",
      "_model_name": "HTMLModel",
      "_view_count": null,
      "_view_module": "@jupyter-widgets/controls",
      "_view_module_version": "1.5.0",
      "_view_name": "HTMLView",
      "description": "",
      "description_tooltip": null,
      "layout": "IPY_MODEL_500d223f3a2843cb9a0a8ff355d459e6",
      "placeholder": "​",
      "style": "IPY_MODEL_3dd3f634e89649e59fd2820db567eb9a",
      "value": " 32768/0 [01:08&lt;00:00, 473.79 examples/s]"
     }
    },
    "eaacf40ee8bb4b77aefbb3889a784e49": {
     "model_module": "@jupyter-widgets/base",
     "model_name": "LayoutModel",
     "state": {
      "_model_module": "@jupyter-widgets/base",
      "_model_module_version": "1.2.0",
      "_model_name": "LayoutModel",
      "_view_count": null,
      "_view_module": "@jupyter-widgets/base",
      "_view_module_version": "1.2.0",
      "_view_name": "LayoutView",
      "align_content": null,
      "align_items": null,
      "align_self": null,
      "border": null,
      "bottom": null,
      "display": null,
      "flex": null,
      "flex_flow": null,
      "grid_area": null,
      "grid_auto_columns": null,
      "grid_auto_flow": null,
      "grid_auto_rows": null,
      "grid_column": null,
      "grid_gap": null,
      "grid_row": null,
      "grid_template_areas": null,
      "grid_template_columns": null,
      "grid_template_rows": null,
      "height": null,
      "justify_content": null,
      "justify_items": null,
      "left": null,
      "margin": null,
      "max_height": null,
      "max_width": null,
      "min_height": null,
      "min_width": null,
      "object_fit": null,
      "object_position": null,
      "order": null,
      "overflow": null,
      "overflow_x": null,
      "overflow_y": null,
      "padding": null,
      "right": null,
      "top": null,
      "visibility": null,
      "width": null
     }
    },
    "f730d4b9839e406ea96680c160a5e35a": {
     "model_module": "@jupyter-widgets/controls",
     "model_name": "HBoxModel",
     "state": {
      "_dom_classes": [],
      "_model_module": "@jupyter-widgets/controls",
      "_model_module_version": "1.5.0",
      "_model_name": "HBoxModel",
      "_view_count": null,
      "_view_module": "@jupyter-widgets/controls",
      "_view_module_version": "1.5.0",
      "_view_name": "HBoxView",
      "box_style": "",
      "children": [
       "IPY_MODEL_9073ba4f8c8e4e0190cd6821005bba92",
       "IPY_MODEL_4c68265a9b03476b8ed18bc347988e68"
      ],
      "layout": "IPY_MODEL_05f4e9769bdc4356b05ede123c20e1c9"
     }
    },
    "f8ad1039c76d412788dc4806032d61a3": {
     "model_module": "@jupyter-widgets/base",
     "model_name": "LayoutModel",
     "state": {
      "_model_module": "@jupyter-widgets/base",
      "_model_module_version": "1.2.0",
      "_model_name": "LayoutModel",
      "_view_count": null,
      "_view_module": "@jupyter-widgets/base",
      "_view_module_version": "1.2.0",
      "_view_name": "LayoutView",
      "align_content": null,
      "align_items": null,
      "align_self": null,
      "border": null,
      "bottom": null,
      "display": null,
      "flex": null,
      "flex_flow": null,
      "grid_area": null,
      "grid_auto_columns": null,
      "grid_auto_flow": null,
      "grid_auto_rows": null,
      "grid_column": null,
      "grid_gap": null,
      "grid_row": null,
      "grid_template_areas": null,
      "grid_template_columns": null,
      "grid_template_rows": null,
      "height": null,
      "justify_content": null,
      "justify_items": null,
      "left": null,
      "margin": null,
      "max_height": null,
      "max_width": null,
      "min_height": null,
      "min_width": null,
      "object_fit": null,
      "object_position": null,
      "order": null,
      "overflow": null,
      "overflow_x": null,
      "overflow_y": null,
      "padding": null,
      "right": null,
      "top": null,
      "visibility": null,
      "width": null
     }
    },
    "f8bc8951b6294418ae728ac6ea554bba": {
     "model_module": "@jupyter-widgets/controls",
     "model_name": "DescriptionStyleModel",
     "state": {
      "_model_module": "@jupyter-widgets/controls",
      "_model_module_version": "1.5.0",
      "_model_name": "DescriptionStyleModel",
      "_view_count": null,
      "_view_module": "@jupyter-widgets/base",
      "_view_module_version": "1.2.0",
      "_view_name": "StyleView",
      "description_width": ""
     }
    },
    "f90edde34560463e8061bd4aaf0d7c88": {
     "model_module": "@jupyter-widgets/controls",
     "model_name": "FloatProgressModel",
     "state": {
      "_dom_classes": [],
      "_model_module": "@jupyter-widgets/controls",
      "_model_module_version": "1.5.0",
      "_model_name": "FloatProgressModel",
      "_view_count": null,
      "_view_module": "@jupyter-widgets/controls",
      "_view_module_version": "1.5.0",
      "_view_name": "ProgressView",
      "bar_style": "info",
      "description": "",
      "description_tooltip": null,
      "layout": "IPY_MODEL_149e193c39ce417fb2fea714a799f758",
      "max": 1,
      "min": 0,
      "orientation": "horizontal",
      "style": "IPY_MODEL_fc1ecfc310d648ddb5342bd7be9f2efd",
      "value": 1
     }
    },
    "fc1ecfc310d648ddb5342bd7be9f2efd": {
     "model_module": "@jupyter-widgets/controls",
     "model_name": "ProgressStyleModel",
     "state": {
      "_model_module": "@jupyter-widgets/controls",
      "_model_module_version": "1.5.0",
      "_model_name": "ProgressStyleModel",
      "_view_count": null,
      "_view_module": "@jupyter-widgets/base",
      "_view_module_version": "1.2.0",
      "_view_name": "StyleView",
      "bar_color": null,
      "description_width": "initial"
     }
    },
    "ff71b3c1c282487895747c4dcccd8bb7": {
     "model_module": "@jupyter-widgets/controls",
     "model_name": "HTMLModel",
     "state": {
      "_dom_classes": [],
      "_model_module": "@jupyter-widgets/controls",
      "_model_module_version": "1.5.0",
      "_model_name": "HTMLModel",
      "_view_count": null,
      "_view_module": "@jupyter-widgets/controls",
      "_view_module_version": "1.5.0",
      "_view_name": "HTMLView",
      "description": "",
      "description_tooltip": null,
      "layout": "IPY_MODEL_09e76923ceb8491cb3abeeed6fa28f14",
      "placeholder": "​",
      "style": "IPY_MODEL_77660b98a04c4a7e82f0d7fb23ff0180",
      "value": " 6/6 [03:51&lt;00:00, 38.57s/ file]"
     }
    }
   }
  }
 },
 "nbformat": 4,
 "nbformat_minor": 5
}
